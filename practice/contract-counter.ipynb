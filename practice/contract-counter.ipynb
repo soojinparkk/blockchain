{
 "cells": [
  {
   "cell_type": "markdown",
   "metadata": {},
   "source": [
    "## 1. 개발"
   ]
  },
  {
   "cell_type": "code",
   "execution_count": 1,
   "metadata": {},
   "outputs": [
    {
     "name": "stdout",
     "output_type": "stream",
     "text": [
      "Writing ../src/counter.sol\n"
     ]
    }
   ],
   "source": [
    "%%writefile ../src/counter.sol\n",
    "pragma solidity 0.6.4;\n",
    "\n",
    "contract Counter {\n",
    "    uint256 counter = 0;\n",
    "    \n",
    "    function add() public {\n",
    "        counter++;\n",
    "    }\n",
    "    \n",
    "    function subtract() public {\n",
    "        counter--;\n",
    "    }\n",
    "    \n",
    "    function getCounter() public view returns (uint256) {\n",
    "        return counter;\n",
    "    }\n",
    "}"
   ]
  },
  {
   "cell_type": "markdown",
   "metadata": {},
   "source": [
    "## 2. 컴파일"
   ]
  },
  {
   "cell_type": "code",
   "execution_count": 2,
   "metadata": {},
   "outputs": [
    {
     "name": "stdout",
     "output_type": "stream",
     "text": [
      "\n",
      "======= ../src/counter.sol:Counter =======\n",
      "Gas estimation:\n",
      "construction:\n",
      "   5099 + 42200 = 47299\n",
      "external:\n",
      "   add():\t20959\n",
      "   getCounter():\t1035\n",
      "   subtract():\t20984\n",
      "Binary:\n",
      "60806040526000805534801561001457600080fd5b5060d3806100236000396000f3fe6080604052348015600f57600080fd5b5060043610603c5760003560e01c80634f2be91f1460415780636deebae31460495780638ada066e146051575b600080fd5b6047606d565b005b604f6080565b005b60576094565b6040518082815260200191505060405180910390f35b6000808154809291906001019190505550565b600080815480929190600190039190505550565b6000805490509056fea26469706673582212206362860193cd2859a225d0d5c63d4b8b3e795b48d5d37a8d436282b57aac1abe64736f6c63430006040033\n",
      "Contract JSON ABI\n",
      "[{\"inputs\":[],\"name\":\"add\",\"outputs\":[],\"stateMutability\":\"nonpayable\",\"type\":\"function\"},{\"inputs\":[],\"name\":\"getCounter\",\"outputs\":[{\"internalType\":\"uint256\",\"name\":\"\",\"type\":\"uint256\"}],\"stateMutability\":\"view\",\"type\":\"function\"},{\"inputs\":[],\"name\":\"subtract\",\"outputs\":[],\"stateMutability\":\"nonpayable\",\"type\":\"function\"}]\n"
     ]
    }
   ],
   "source": [
    "!solc --abi --bin --gas ../src/counter.sol"
   ]
  },
  {
   "cell_type": "markdown",
   "metadata": {},
   "source": [
    "## 3. 배포"
   ]
  },
  {
   "cell_type": "code",
   "execution_count": 4,
   "metadata": {},
   "outputs": [
    {
     "name": "stdout",
     "output_type": "stream",
     "text": [
      "Writing ../src/counterDeploy.js\n"
     ]
    }
   ],
   "source": [
    "%%writefile ../src/counterDeploy.js\n",
    "var Web3 = require('web3');\n",
    "var web3;\n",
    "if (typeof web3 !== 'undefined') {\n",
    "    web3 = new Web3(web3.currentProvider);\n",
    "} else {\n",
    "    web3 = new Web3(new Web3.providers.HttpProvider(\"http://localhost:8345\"));\n",
    "}\n",
    "\n",
    "var _abi = [{\"inputs\":[],\"name\":\"add\",\"outputs\":[],\"stateMutability\":\"nonpayable\",\"type\":\"function\"},{\"inputs\":[],\"name\":\"getCounter\",\"outputs\":[{\"internalType\":\"uint256\",\"name\":\"\",\"type\":\"uint256\"}],\"stateMutability\":\"view\",\"type\":\"function\"},{\"inputs\":[],\"name\":\"subtract\",\"outputs\":[],\"stateMutability\":\"nonpayable\",\"type\":\"function\"}];\n",
    "var _bin = \"60806040526000805534801561001457600080fd5b5060d3806100236000396000f3fe6080604052348015600f57600080fd5b5060043610603c5760003560e01c80634f2be91f1460415780636deebae31460495780638ada066e146051575b600080fd5b6047606d565b005b604f6080565b005b60576094565b6040518082815260200191505060405180910390f35b6000808154809291906001019190505550565b600080815480929190600190039190505550565b6000805490509056fea26469706673582212206362860193cd2859a225d0d5c63d4b8b3e795b48d5d37a8d436282b57aac1abe64736f6c63430006040033\";\n",
    "var _contract = new web3.eth.Contract(_abi);\n",
    "\n",
    "// unlock the account with a password provided\n",
    "// web3.personal.unlockAccount(web3.eth.accounts[0], 'password');\n",
    "\n",
    "_contract\n",
    "    .deploy({ data: \"0x\"+_bin })\n",
    "    .send({\n",
    "     from: '0xbFa80B827dbd9434fd9f03cf11f235571fAC5751',\n",
    "     gas: '1000000'\n",
    "    })\n",
    "    .then(function(newContractInstance){\n",
    "        console.log(\"contract address: \"+newContractInstance.options.address)\n",
    "    });"
   ]
  },
  {
   "cell_type": "code",
   "execution_count": 5,
   "metadata": {},
   "outputs": [
    {
     "name": "stdout",
     "output_type": "stream",
     "text": [
      "contract address: 0x02E6c6DE31d43C92A6D0B22741cbC3313c07adC5\n"
     ]
    }
   ],
   "source": [
    "!node ../src/counterDeploy.js"
   ]
  },
  {
   "cell_type": "markdown",
   "metadata": {},
   "source": [
    "## 4. 사용"
   ]
  },
  {
   "cell_type": "code",
   "execution_count": 11,
   "metadata": {},
   "outputs": [
    {
     "name": "stdout",
     "output_type": "stream",
     "text": [
      "Overwriting ../src/counterUse.js\n"
     ]
    }
   ],
   "source": [
    "%%writefile ../src/counterUse.js\n",
    "var Web3 = require('web3');\n",
    "var web3 = new Web3(new Web3.providers.HttpProvider(\"http://localhost:8345\"));\n",
    "\n",
    "var _abi = [{\"inputs\":[],\"name\":\"add\",\"outputs\":[],\"stateMutability\":\"nonpayable\",\"type\":\"function\"},{\"inputs\":[],\"name\":\"getCounter\",\"outputs\":[{\"internalType\":\"uint256\",\"name\":\"\",\"type\":\"uint256\"}],\"stateMutability\":\"view\",\"type\":\"function\"},{\"inputs\":[],\"name\":\"subtract\",\"outputs\":[],\"stateMutability\":\"nonpayable\",\"type\":\"function\"}];\n",
    "var addr = \"0x02E6c6DE31d43C92A6D0B22741cbC3313c07adC5\";\n",
    "var counter = new web3.eth.Contract(_abi, addr);\n",
    "counter.methods.getCounter().call().then(function (str) { console.log(str); });\n",
    "counter.methods.add().send({from: \"0xbFa80B827dbd9434fd9f03cf11f235571fAC5751\", gas: 100000});\n",
    "counter.methods.add().send({from: \"0xbFa80B827dbd9434fd9f03cf11f235571fAC5751\", gas: 100000});\n",
    "counter.methods.subtract().send({from: \"0xbFa80B827dbd9434fd9f03cf11f235571fAC5751\", gas: 100000});"
   ]
  },
  {
   "cell_type": "code",
   "execution_count": 13,
   "metadata": {},
   "outputs": [
    {
     "name": "stdout",
     "output_type": "stream",
     "text": [
      "3\n"
     ]
    }
   ],
   "source": [
    "!node ../src/counterUse.js"
   ]
  },
  {
   "cell_type": "markdown",
   "metadata": {},
   "source": [
    "- 마이닝을 해야 트랜잭션 결과가 반영됨 (geth의 경우)\n",
    "- 저장된 수가 계속 증감하기 때문에 세션을 다시 열어도 전의 counter 값이 남아있음"
   ]
  }
 ],
 "metadata": {
  "kernelspec": {
   "display_name": "Python 3",
   "language": "python",
   "name": "python3"
  },
  "language_info": {
   "codemirror_mode": {
    "name": "ipython",
    "version": 3
   },
   "file_extension": ".py",
   "mimetype": "text/x-python",
   "name": "python",
   "nbconvert_exporter": "python",
   "pygments_lexer": "ipython3",
   "version": "3.8.5"
  }
 },
 "nbformat": 4,
 "nbformat_minor": 4
}
