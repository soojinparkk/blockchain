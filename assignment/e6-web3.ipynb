{
 "cells": [
  {
   "cell_type": "markdown",
   "metadata": {},
   "source": [
    "## 연습문제1\n",
    "\n",
    "ganache-cli를 백그라운드로 띄우고, node에서 연결하여, coinbase주소를 출력하세요."
   ]
  },
  {
   "cell_type": "code",
   "execution_count": 5,
   "metadata": {},
   "outputs": [
    {
     "name": "stdout",
     "output_type": "stream",
     "text": [
      "Overwriting ../src/e6-web3-ganache.js\n"
     ]
    }
   ],
   "source": [
    "%%writefile ../src/e6-web3-ganache.js\n",
    "var Web3 = require('web3');\n",
    "var web3 = new Web3(\"http://127.0.0.1:8345\");\n",
    "console.log(\"ganache-cli coinbase:\");\n",
    "web3.eth.getCoinbase().then(console.log);"
   ]
  },
  {
   "cell_type": "code",
   "execution_count": 6,
   "metadata": {},
   "outputs": [
    {
     "name": "stdout",
     "output_type": "stream",
     "text": [
      "ganache-cli coinbase:\n",
      "0x3094f548932189deb69fa7f6701bdcf426ae8814\n"
     ]
    }
   ],
   "source": [
    "!node ../src/e6-web3-ganache.js"
   ]
  },
  {
   "cell_type": "markdown",
   "metadata": {},
   "source": [
    "위 문제를 geth를 띄우고 실행해보세요. geth에서의 coinbase를 출력하세요."
   ]
  },
  {
   "cell_type": "code",
   "execution_count": 7,
   "metadata": {},
   "outputs": [
    {
     "name": "stdout",
     "output_type": "stream",
     "text": [
      "Overwriting ../src/e6-web3-geth.js\n"
     ]
    }
   ],
   "source": [
    "%%writefile ../src/e6-web3-geth.js\n",
    "var Web3 = require('web3');\n",
    "var web3 = new Web3(\"http://127.0.0.1:8445\");\n",
    "console.log(\"geth coinbase:\");\n",
    "web3.eth.getCoinbase().then(console.log);"
   ]
  },
  {
   "cell_type": "code",
   "execution_count": 8,
   "metadata": {},
   "outputs": [
    {
     "name": "stdout",
     "output_type": "stream",
     "text": [
      "geth coinbase:\n",
      "0x74ccd5b995b3480fe9063ee539ebf065385f61c8\n"
     ]
    }
   ],
   "source": [
    "!node ../src/e6-web3-geth.js"
   ]
  },
  {
   "cell_type": "markdown",
   "metadata": {},
   "source": [
    "ganache-cli의 coinbase에서 geth의 coinbase로 1 ether를 송금해 보세요. 송금 성공이면 잔고변화를 출력하고, 실패이면 그 이유를 간단히 설명하세요."
   ]
  },
  {
   "cell_type": "code",
   "execution_count": 9,
   "metadata": {},
   "outputs": [
    {
     "name": "stdout",
     "output_type": "stream",
     "text": [
      "Writing ../src/e6-web3-trans.js\n"
     ]
    }
   ],
   "source": [
    "%%writefile ../src/e6-web3-trans.js\n",
    "var Web3 = require('web3');\n",
    "var web3 = new Web3(\"http://127.0.0.1:8345\");\n",
    "\n",
    "var ganache = \"0x3094f548932189deb69fa7f6701bdcf426ae8814\"        // ganache-cli coinbase\n",
    "var geth = \"0x74ccd5b995b3480fe9063ee539ebf065385f61c8\";          // geth coinbase\n",
    "var trans = web3.utils.toWei('1', \"ether\");                       // 전송할 1 ether 값\n",
    "\n",
    "web3.eth.getBalance(geth).then(function (ret) {\n",
    "    console.log(\"Before transaction...\");\n",
    "    console.log(\"coinbase: \" + ret);\n",
    "});\n",
    "web3.eth.personal.sendTransaction({from:ganache, to:geth, value:trans});  // transaction\n",
    "web3.eth.getBalance(geth).then(function (ret) {\n",
    "    console.log(\"After transaction...\");\n",
    "    console.log(\"coinbase: \" + ret);\n",
    "});"
   ]
  },
  {
   "cell_type": "code",
   "execution_count": 10,
   "metadata": {},
   "outputs": [
    {
     "name": "stdout",
     "output_type": "stream",
     "text": [
      "Before transaction...\n",
      "coinbase: 22000000000000000000\n",
      "After transaction...\n",
      "coinbase: 23000000000000000000\n"
     ]
    }
   ],
   "source": [
    "!node ../src/e6-web3-trans.js"
   ]
  },
  {
   "cell_type": "markdown",
   "metadata": {},
   "source": [
    "## 연습문제 2\n",
    "\n",
    "ganache-cli에 연결하고, 현재 coinbase의 잔고를 ether로 출력하세요.\n",
    "\n",
    "현재 거래소 환전가격을 구해서 한화로 계산하여 얼마인지 출력하세요. 환전가격은 거래소 가격을 읽어서 프로그램에 코딩한다."
   ]
  },
  {
   "cell_type": "code",
   "execution_count": 15,
   "metadata": {},
   "outputs": [
    {
     "name": "stdout",
     "output_type": "stream",
     "text": [
      "Overwriting ../src/e6-web3-ganache-eth.js\n"
     ]
    }
   ],
   "source": [
    "%%writefile ../src/e6-web3-ganache-eth.js\n",
    "var Web3 = require('web3');\n",
    "var web3 = new Web3(\"http://127.0.0.1:8345\");\n",
    "var krw = 2797000;\n",
    "web3.eth.getCoinbase().then(function (coinbase) {\n",
    "    web3.eth.getBalance(coinbase).then(function (ret) {\n",
    "        var bal = web3.utils.fromWei(ret, \"ether\");\n",
    "        console.log(\"coinbase balance in ether: \" + bal);\n",
    "        console.log((bal * krw) + \"won\");\n",
    "    });\n",
    "});"
   ]
  },
  {
   "cell_type": "code",
   "execution_count": 16,
   "metadata": {
    "scrolled": true
   },
   "outputs": [
    {
     "name": "stdout",
     "output_type": "stream",
     "text": [
      "coinbase balance in ether: 76.99034\n",
      "215341980.98000002won\n"
     ]
    }
   ],
   "source": [
    "!node ../src/e6-web3-ganache-eth.js"
   ]
  }
 ],
 "metadata": {
  "kernelspec": {
   "display_name": "Python 3",
   "language": "python",
   "name": "python3"
  },
  "language_info": {
   "codemirror_mode": {
    "name": "ipython",
    "version": 3
   },
   "file_extension": ".py",
   "mimetype": "text/x-python",
   "name": "python",
   "nbconvert_exporter": "python",
   "pygments_lexer": "ipython3",
   "version": "3.8.5"
  }
 },
 "nbformat": 4,
 "nbformat_minor": 4
}
