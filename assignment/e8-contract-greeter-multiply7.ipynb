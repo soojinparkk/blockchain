{
 "cells": [
  {
   "cell_type": "markdown",
   "metadata": {},
   "source": [
    "## 연습문제1\n",
    "\n",
    "```greeter```의 ```greeting```의 데이터타입을 ```string```에서 ```bytes32```로 변경하세요.\n",
    "\n",
    "- ```string```에서 ```bytes32```로 변경하면 gas의 차이가 있는지 확인\n",
    "\n",
    "- 노드에서 배포\n",
    "\n",
    "- 노드에서 인사를 설정하고 ```setGreeting(\"Hello World!\")```, ```greet()```을 출력하세요."
   ]
  },
  {
   "cell_type": "code",
   "execution_count": 3,
   "metadata": {},
   "outputs": [
    {
     "name": "stdout",
     "output_type": "stream",
     "text": [
      "Overwriting ../src/e8-contract-greeter.sol\n"
     ]
    }
   ],
   "source": [
    "%%writefile ../src/e8-contract-greeter.sol\n",
    "pragma solidity 0.6.4;\n",
    "\n",
    "contract Greeter {\n",
    "    bytes32 greeting;\n",
    "    \n",
    "    constructor() public {\n",
    "        greeting = \"Hello\";\n",
    "    }\n",
    "    \n",
    "    function setGreeting (bytes32 _greeting) public {\n",
    "        greeting = _greeting;\n",
    "    }\n",
    "    \n",
    "    function greet() view public returns (bytes32) {\n",
    "        return greeting;\n",
    "    }\n",
    "}"
   ]
  },
  {
   "cell_type": "code",
   "execution_count": 4,
   "metadata": {},
   "outputs": [
    {
     "name": "stdout",
     "output_type": "stream",
     "text": [
      "\n",
      "======= ../src/e8-contract-greeter.sol:Greeter =======\n",
      "Binary:\n",
      "608060405234801561001057600080fd5b507f48656c6c6f00000000000000000000000000000000000000000000000000000060008190555060c7806100466000396000f3fe6080604052348015600f57600080fd5b506004361060325760003560e01c806350513b4f146037578063cfae3217146062575b600080fd5b606060048036036020811015604b57600080fd5b8101908080359060200190929190505050607e565b005b60686088565b6040518082815260200191505060405180910390f35b8060008190555050565b6000805490509056fea26469706673582212209783fe7472d18828b662f67d756e46d27e43599a41f4654582caa72d85acf53764736f6c63430006040033\n",
      "Contract JSON ABI\n",
      "[{\"inputs\":[],\"stateMutability\":\"nonpayable\",\"type\":\"constructor\"},{\"inputs\":[],\"name\":\"greet\",\"outputs\":[{\"internalType\":\"bytes32\",\"name\":\"\",\"type\":\"bytes32\"}],\"stateMutability\":\"view\",\"type\":\"function\"},{\"inputs\":[{\"internalType\":\"bytes32\",\"name\":\"_greeting\",\"type\":\"bytes32\"}],\"name\":\"setGreeting\",\"outputs\":[],\"stateMutability\":\"nonpayable\",\"type\":\"function\"}]\n"
     ]
    }
   ],
   "source": [
    "!solc --abi --bin ../src/e8-contract-greeter.sol"
   ]
  },
  {
   "cell_type": "code",
   "execution_count": 5,
   "metadata": {},
   "outputs": [
    {
     "name": "stdout",
     "output_type": "stream",
     "text": [
      "\n",
      "======= ../src/e8-contract-greeter.sol:Greeter =======\n",
      "Gas estimation:\n",
      "construction:\n",
      "   20107 + 39800 = 59907\n",
      "external:\n",
      "   greet():\t1013\n",
      "   setGreeting(bytes32):\t20220\n"
     ]
    }
   ],
   "source": [
    "!solc --gas ../src/e8-contract-greeter.sol"
   ]
  },
  {
   "cell_type": "markdown",
   "metadata": {},
   "source": [
    "- string의 경우    \n",
    "배열의 크기를 알 수 없기 때문에 gas 비용이 infinite로 산정된다.\n",
    "\n",
    "- bytes32의 경우     \n",
    "글자수가 제한되므로 gas 비용이 한정되어 산정된다."
   ]
  },
  {
   "cell_type": "markdown",
   "metadata": {},
   "source": [
    "### 배포"
   ]
  },
  {
   "cell_type": "code",
   "execution_count": 6,
   "metadata": {},
   "outputs": [
    {
     "name": "stdout",
     "output_type": "stream",
     "text": [
      "Writing ../src/e8-contract-greeterDeploy.js\n"
     ]
    }
   ],
   "source": [
    "%%writefile ../src/e8-contract-greeterDeploy.js\n",
    "var Web3 = require('web3');\n",
    "var web3;\n",
    "if (typeof web3 !== 'undefined') {\n",
    "    web3 = new Web3(web3.currentProvider);\n",
    "} else {\n",
    "    web3 = new Web3(new Web3.providers.HttpProvider(\"http://localhost:8345\"));\n",
    "}\n",
    "\n",
    "var _abi = [{\"inputs\":[],\"stateMutability\":\"nonpayable\",\"type\":\"constructor\"},{\"inputs\":[],\"name\":\"greet\",\"outputs\":[{\"internalType\":\"bytes32\",\"name\":\"\",\"type\":\"bytes32\"}],\"stateMutability\":\"view\",\"type\":\"function\"},{\"inputs\":[{\"internalType\":\"bytes32\",\"name\":\"_greeting\",\"type\":\"bytes32\"}],\"name\":\"setGreeting\",\"outputs\":[],\"stateMutability\":\"nonpayable\",\"type\":\"function\"}];\n",
    "var _bin = \"608060405234801561001057600080fd5b507f48656c6c6f00000000000000000000000000000000000000000000000000000060008190555060c7806100466000396000f3fe6080604052348015600f57600080fd5b506004361060325760003560e01c806350513b4f146037578063cfae3217146062575b600080fd5b606060048036036020811015604b57600080fd5b8101908080359060200190929190505050607e565b005b60686088565b6040518082815260200191505060405180910390f35b8060008190555050565b6000805490509056fea26469706673582212209783fe7472d18828b662f67d756e46d27e43599a41f4654582caa72d85acf53764736f6c63430006040033\";\n",
    "var _contract = new web3.eth.Contract(_abi);\n",
    "\n",
    "_contract\n",
    "    .deploy({ data: \"0x\"+_bin })\n",
    "    .send({\n",
    "     from: '0xCE966b32cAd5E30E5A20F425bac553F07641eEe3',\n",
    "     gas: '1000000'\n",
    "    })\n",
    "    .then(function(newContractInstance){\n",
    "        console.log(\"contract address: \"+newContractInstance.options.address)\n",
    "    });"
   ]
  },
  {
   "cell_type": "code",
   "execution_count": 7,
   "metadata": {
    "scrolled": true
   },
   "outputs": [
    {
     "name": "stdout",
     "output_type": "stream",
     "text": [
      "contract address: 0x81E522f375be14670DED3aadCe7014ff3897e347\n"
     ]
    }
   ],
   "source": [
    "!node ../src/e8-contract-greeterDeploy.js"
   ]
  },
  {
   "cell_type": "markdown",
   "metadata": {},
   "source": [
    "### 사용"
   ]
  },
  {
   "cell_type": "code",
   "execution_count": 33,
   "metadata": {},
   "outputs": [
    {
     "name": "stdout",
     "output_type": "stream",
     "text": [
      "Overwriting ../src/e8-contract-greeterUse.js\n"
     ]
    }
   ],
   "source": [
    "%%writefile ../src/e8-contract-greeterUse.js\n",
    "var Web3 = require('web3');\n",
    "var web3 = new Web3(new Web3.providers.HttpProvider(\"http://localhost:8345\"));\n",
    "\n",
    "var _abi = [{\"inputs\":[],\"stateMutability\":\"nonpayable\",\"type\":\"constructor\"},{\"inputs\":[],\"name\":\"greet\",\"outputs\":[{\"internalType\":\"bytes32\",\"name\":\"\",\"type\":\"bytes32\"}],\"stateMutability\":\"view\",\"type\":\"function\"},{\"inputs\":[{\"internalType\":\"bytes32\",\"name\":\"_greeting\",\"type\":\"bytes32\"}],\"name\":\"setGreeting\",\"outputs\":[],\"stateMutability\":\"nonpayable\",\"type\":\"function\"}];\n",
    "var greeter = new web3.eth.Contract(_abi, \"0x81E522f375be14670DED3aadCe7014ff3897e347\");\n",
    "\n",
    "// 파라미터로 전달할 문자열을 16진수로 변환 (utf8 -> hex)\n",
    "var str = web3.utils.toHex(\"Hello World!\");\n",
    "greeter.methods.setGreeting(str).send({from: \"0xCE966b32cAd5E30E5A20F425bac553F07641eEe3\", gas: 1000000});\n",
    "greeter.methods.greet().call().then(function(value) { console.log(web3.utils.hexToUtf8(value)); });     // 결과 출력시 hex -> utf8"
   ]
  },
  {
   "cell_type": "code",
   "execution_count": 34,
   "metadata": {},
   "outputs": [
    {
     "name": "stdout",
     "output_type": "stream",
     "text": [
      "Hello World!\n"
     ]
    }
   ],
   "source": [
    "!node ../src/e8-contract-greeterUse.js"
   ]
  },
  {
   "cell_type": "markdown",
   "metadata": {},
   "source": [
    "## 연습문제2\n",
    "\n",
    "어떤 수에 7을 곱하는 스마트 컨트랙을 만든다.\n",
    "\n",
    "컨트랙은 ```Multiply7```, 함수는:\n",
    "\n",
    "function multiply(uint input) public pure returns (uint)\n",
    "\n",
    "컨트랙은 Solidity로, 클라이언트는 노드로 프로그램한다.\n",
    "\n",
    "- 8을 인자로 넘기면, 7을 곱해서 56을 출력하세요."
   ]
  },
  {
   "cell_type": "markdown",
   "metadata": {},
   "source": [
    "### 1. 개발"
   ]
  },
  {
   "cell_type": "code",
   "execution_count": 35,
   "metadata": {},
   "outputs": [
    {
     "name": "stdout",
     "output_type": "stream",
     "text": [
      "Writing ../src/e8-contract-multiply7.sol\n"
     ]
    }
   ],
   "source": [
    "%%writefile ../src/e8-contract-multiply7.sol\n",
    "pragma solidity 0.6.4;\n",
    "\n",
    "contract Multiply7 {\n",
    "    function multiply(uint input) public pure returns(uint) {\n",
    "        return 7 * input;\n",
    "    }\n",
    "}"
   ]
  },
  {
   "cell_type": "markdown",
   "metadata": {},
   "source": [
    "### 2. 컴파일"
   ]
  },
  {
   "cell_type": "code",
   "execution_count": 36,
   "metadata": {
    "scrolled": false
   },
   "outputs": [
    {
     "name": "stdout",
     "output_type": "stream",
     "text": [
      "\n",
      "======= ../src/e8-contract-multiply7.sol:Multiply7 =======\n",
      "Gas estimation:\n",
      "construction:\n",
      "   87 + 35000 = 35087\n",
      "external:\n",
      "   multiply(uint256):\t286\n",
      "Binary:\n",
      "6080604052348015600f57600080fd5b5060af8061001e6000396000f3fe6080604052348015600f57600080fd5b506004361060285760003560e01c8063c6888fa114602d575b600080fd5b605660048036036020811015604157600080fd5b8101908080359060200190929190505050606c565b6040518082815260200191505060405180910390f35b600081600702905091905056fea264697066735822122064ab053a01a7c9ec0312bffdf91dc6edfe2e6951ca03567ccfaa965decd619fa64736f6c63430006040033\n",
      "Contract JSON ABI\n",
      "[{\"inputs\":[{\"internalType\":\"uint256\",\"name\":\"input\",\"type\":\"uint256\"}],\"name\":\"multiply\",\"outputs\":[{\"internalType\":\"uint256\",\"name\":\"\",\"type\":\"uint256\"}],\"stateMutability\":\"pure\",\"type\":\"function\"}]\n"
     ]
    }
   ],
   "source": [
    "!solc --abi --bin --gas ../src/e8-contract-multiply7.sol"
   ]
  },
  {
   "cell_type": "markdown",
   "metadata": {},
   "source": [
    "### 3. 배포"
   ]
  },
  {
   "cell_type": "code",
   "execution_count": 37,
   "metadata": {},
   "outputs": [
    {
     "name": "stdout",
     "output_type": "stream",
     "text": [
      "Writing ../src/e8-contract-multiply7Deploy.js\n"
     ]
    }
   ],
   "source": [
    "%%writefile ../src/e8-contract-multiply7Deploy.js\n",
    "var Web3 = require('web3');\n",
    "var web3;\n",
    "if (typeof web3 !== 'undefined') {\n",
    "    web3 = new Web3(web3.currentProvider);\n",
    "} else {\n",
    "    web3 = new Web3(new Web3.providers.HttpProvider(\"http://localhost:8345\"));\n",
    "}\n",
    "\n",
    "var _abi = [{\"inputs\":[{\"internalType\":\"uint256\",\"name\":\"input\",\"type\":\"uint256\"}],\"name\":\"multiply\",\"outputs\":[{\"internalType\":\"uint256\",\"name\":\"\",\"type\":\"uint256\"}],\"stateMutability\":\"pure\",\"type\":\"function\"}];\n",
    "var _bin = \"6080604052348015600f57600080fd5b5060af8061001e6000396000f3fe6080604052348015600f57600080fd5b506004361060285760003560e01c8063c6888fa114602d575b600080fd5b605660048036036020811015604157600080fd5b8101908080359060200190929190505050606c565b6040518082815260200191505060405180910390f35b600081600702905091905056fea264697066735822122064ab053a01a7c9ec0312bffdf91dc6edfe2e6951ca03567ccfaa965decd619fa64736f6c63430006040033\";\n",
    "var _contract = new web3.eth.Contract(_abi);\n",
    "\n",
    "_contract\n",
    "    .deploy({ data: \"0x\"+_bin })\n",
    "    .send({\n",
    "     from: '0xCE966b32cAd5E30E5A20F425bac553F07641eEe3',\n",
    "     gas: '1000000'\n",
    "    })\n",
    "    .then(function(newContractInstance){\n",
    "        console.log(\"contract address: \"+newContractInstance.options.address)\n",
    "    });"
   ]
  },
  {
   "cell_type": "code",
   "execution_count": 38,
   "metadata": {
    "scrolled": true
   },
   "outputs": [
    {
     "name": "stdout",
     "output_type": "stream",
     "text": [
      "contract address: 0xB6D705C1693B197A3DdD133e1B8e47b05cB68aE0\n"
     ]
    }
   ],
   "source": [
    "!node ../src/e8-contract-multiply7Deploy.js"
   ]
  },
  {
   "cell_type": "markdown",
   "metadata": {},
   "source": [
    "### 4. 사용"
   ]
  },
  {
   "cell_type": "code",
   "execution_count": 41,
   "metadata": {},
   "outputs": [
    {
     "name": "stdout",
     "output_type": "stream",
     "text": [
      "Overwriting ../src/e8-contract-multiply7Use.js\n"
     ]
    }
   ],
   "source": [
    "%%writefile ../src/e8-contract-multiply7Use.js\n",
    "var Web3 = require('web3');\n",
    "var web3 = new Web3(new Web3.providers.HttpProvider(\"http://localhost:8345\"));\n",
    "\n",
    "var _abi = [{\"inputs\":[{\"internalType\":\"uint256\",\"name\":\"input\",\"type\":\"uint256\"}],\"name\":\"multiply\",\"outputs\":[{\"internalType\":\"uint256\",\"name\":\"\",\"type\":\"uint256\"}],\"stateMutability\":\"pure\",\"type\":\"function\"}];\n",
    "var multiply7 = new web3.eth.Contract(_abi, \"0xB6D705C1693B197A3DdD133e1B8e47b05cB68aE0\");\n",
    "multiply7.methods.multiply(8).call().then(function(value) { console.log(value); });"
   ]
  },
  {
   "cell_type": "code",
   "execution_count": 42,
   "metadata": {},
   "outputs": [
    {
     "name": "stdout",
     "output_type": "stream",
     "text": [
      "56\n"
     ]
    }
   ],
   "source": [
    "!node ../src/e8-contract-multiply7Use.js"
   ]
  }
 ],
 "metadata": {
  "kernelspec": {
   "display_name": "Python 3",
   "language": "python",
   "name": "python3"
  },
  "language_info": {
   "codemirror_mode": {
    "name": "ipython",
    "version": 3
   },
   "file_extension": ".py",
   "mimetype": "text/x-python",
   "name": "python",
   "nbconvert_exporter": "python",
   "pygments_lexer": "ipython3",
   "version": "3.8.5"
  }
 },
 "nbformat": 4,
 "nbformat_minor": 4
}
