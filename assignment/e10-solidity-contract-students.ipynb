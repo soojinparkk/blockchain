{
 "cells": [
  {
   "cell_type": "markdown",
   "metadata": {},
   "source": [
    "## 연습문제"
   ]
  },
  {
   "cell_type": "markdown",
   "metadata": {},
   "source": [
    "학생은 학번, 이름, 등록여부 속성을 가진다. 학생을 배열로 구성하고 다음 함수를 가진 Students 컨트랙을 프로그램하세요.\n",
    "\n",
    "검색은 조건에 해당하는 항목을 찾기 위해서는 반복문이 필수적이다.\n",
    "\n",
    "그러나 gas비용이 급증할 수 있으므로, 배열의 인덱스로 검색하도록 하자.\n",
    "\n",
    "배열에서는 어떤 항목의 데이터를 지우기 위해서는 검색이 필요하다.\n",
    "\n",
    "그러나 역시 gas비용이 급증할 수 있으므로, 배열의 인덱스에 해당하는 항목을 지우기로 한다.\n",
    "\n",
    "해당 항목을 지우고 나서는, 그 항목을 제거하고 배열의 크기도 같이 줄여야 한다.\n",
    "\n",
    "\n",
    "\n",
    "함수의 시그니처는 다음과 같다.\n",
    "\n",
    "* 입력함수 - function insert(uint n, string memory sn, bool e) public\n",
    "\n",
    "* 첫 데이터 조회 - function getFirstStudent() public view returns(uint, string memory, bool)\n",
    "\n",
    "* 검색함수 - function findBy(uint8 index) view public returns(uint, string memory, bool)\n",
    "\n",
    "* 삭제함수 - function remove(uint index) public\n",
    "\n",
    "* 배열크기 조회함수 - function getLength() view public returns(uint)\n",
    "\n",
    "* 삭제함수 - function pop() public"
   ]
  },
  {
   "cell_type": "code",
   "execution_count": 2,
   "metadata": {},
   "outputs": [
    {
     "name": "stdout",
     "output_type": "stream",
     "text": [
      "Overwriting ../src/Students.sol\n"
     ]
    }
   ],
   "source": [
    "%%writefile ../src/Students.sol\n",
    "pragma solidity 0.6.4;\n",
    "\n",
    "contract Students {\n",
    "    struct Student {\n",
    "        uint num;\n",
    "        string name;\n",
    "        bool isEnrolled;\n",
    "    }\n",
    "    Student[] st;\n",
    "    \n",
    "    function insert(uint n, string memory sn, bool e) public {\n",
    "        Student memory s = Student(n, sn, e);\n",
    "        st.push(s);\n",
    "    }\n",
    "    function getFirstStudent() public view returns(uint, string memory, bool) {\n",
    "        return (st[0].num, st[0].name, st[0].isEnrolled);\n",
    "    }\n",
    "    function findBy(uint8 index) view public returns(uint, string memory, bool) {\n",
    "        return (st[index].num, st[index].name, st[index].isEnrolled);\n",
    "    }\n",
    "    function remove(uint index) public {\n",
    "        if (index < st.length) {\n",
    "            for (uint i = index;i < st.length-1;i++) {\n",
    "                st[i].num = st[i+1].num;\n",
    "                st[i].name = st[i+1].name;\n",
    "                st[i].isEnrolled = st[i+1].isEnrolled;\n",
    "            }\n",
    "            st.pop();\n",
    "        }\n",
    "    }\n",
    "    function getLength() view public returns(uint) {\n",
    "        return st.length;\n",
    "    }\n",
    "    function pop() public {\n",
    "        st.pop();\n",
    "    }\n",
    "}"
   ]
  }
 ],
 "metadata": {
  "kernelspec": {
   "display_name": "Python 3",
   "language": "python",
   "name": "python3"
  },
  "language_info": {
   "codemirror_mode": {
    "name": "ipython",
    "version": 3
   },
   "file_extension": ".py",
   "mimetype": "text/x-python",
   "name": "python",
   "nbconvert_exporter": "python",
   "pygments_lexer": "ipython3",
   "version": "3.8.5"
  }
 },
 "nbformat": 4,
 "nbformat_minor": 4
}
