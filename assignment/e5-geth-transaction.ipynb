{
 "cells": [
  {
   "cell_type": "markdown",
   "metadata": {},
   "source": [
    "## 연습문제 1\n",
    "\n",
    "다음 4건의 데이터에 대해 Merkle Root 값을 계산하고 출력하세요.\n",
    "\n",
    "중간 노드의 AB, CD의 해시도 출력하세요.\n",
    "\n",
    "* txA = 'Hello'\n",
    "\n",
    "* txB = 'How are you?'\n",
    "\n",
    "* txC = 'This is Thursday'\n",
    "\n",
    "* txD = 'Happy new Year'"
   ]
  },
  {
   "cell_type": "code",
   "execution_count": 6,
   "metadata": {},
   "outputs": [],
   "source": [
    "import hashlib\n",
    "\n",
    "txA = 'Hello'.encode()\n",
    "txB = 'How are you?'.encode()\n",
    "txC = 'This is Thursday'.encode()\n",
    "txD = 'Happy new Year'.encode()"
   ]
  },
  {
   "cell_type": "code",
   "execution_count": 7,
   "metadata": {},
   "outputs": [],
   "source": [
    "# hash 값\n",
    "hashA = hashlib.sha256(txA)\n",
    "hashB = hashlib.sha256(txB)\n",
    "hashC = hashlib.sha256(txC)\n",
    "hashD = hashlib.sha256(txD)"
   ]
  },
  {
   "cell_type": "code",
   "execution_count": 12,
   "metadata": {},
   "outputs": [],
   "source": [
    "# byteswap\n",
    "hashAswap = \"\".join(reversed([hashA.hexdigest()[i:i+2] for i in range(0, hashA.digest_size*2, 2)]))\n",
    "hashBswap = \"\".join(reversed([hashB.hexdigest()[i:i+2] for i in range(0, hashB.digest_size*2, 2)]))\n",
    "hashCswap = \"\".join(reversed([hashC.hexdigest()[i:i+2] for i in range(0, hashC.digest_size*2, 2)]))\n",
    "hashDswap = \"\".join(reversed([hashD.hexdigest()[i:i+2] for i in range(0, hashD.digest_size*2, 2)]))"
   ]
  },
  {
   "cell_type": "code",
   "execution_count": 19,
   "metadata": {},
   "outputs": [
    {
     "name": "stdout",
     "output_type": "stream",
     "text": [
      "중간 노드 AB의 해시:  a7dca36b1e6fe56e1d7bc34fe56ceea8ab64f47a55e929b712fab58885dcdc37 \n",
      "중간 노드 CD의 해시:  15524f5c1b536c2fe0f717fd8b1bbede37f94654fae6f47c20521ce476c8e0b2\n"
     ]
    }
   ],
   "source": [
    "# double hashing\n",
    "hashAB = hashAswap + hashBswap\n",
    "doubleHashAB = hashlib.sha256(hashAB.encode()).hexdigest()\n",
    "hashCD = hashCswap + hashDswap\n",
    "doubleHashCD = hashlib.sha256(hashCD.encode()).hexdigest()\n",
    "\n",
    "print(\"중간 노드 AB의 해시: \", doubleHashAB, \"\\n중간 노드 CD의 해시: \", doubleHashCD)"
   ]
  },
  {
   "cell_type": "code",
   "execution_count": 22,
   "metadata": {},
   "outputs": [],
   "source": [
    "# Merkle Root의 값을 계산하기 위해 위와 같은 작업을 반복 실행\n",
    "# AB와 CD의 해시값은 위와 같이 구했으므로 byteswap부터 실행\n",
    "merkleABswap = \"\".join(reversed([doubleHashAB[i:i+2] for i in range(0, len(doubleHashAB), 2)]))\n",
    "merkleCDswap = \"\".join(reversed([doubleHashCD[i:i+2] for i in range(0, len(doubleHashCD), 2)]))"
   ]
  },
  {
   "cell_type": "code",
   "execution_count": 23,
   "metadata": {},
   "outputs": [
    {
     "name": "stdout",
     "output_type": "stream",
     "text": [
      "Merkle Root의 값:  00aa61af726d4cd0d5a5e0d2e3e3280552acb6d587c15413a713b7a96275cefc\n"
     ]
    }
   ],
   "source": [
    "# double hashing\n",
    "merkleABCD = merkleABswap + merkleCDswap\n",
    "doubleMerkle = hashlib.sha256(merkleABCD.encode()).hexdigest()\n",
    "\n",
    "print(\"Merkle Root의 값: \", doubleMerkle)"
   ]
  },
  {
   "cell_type": "markdown",
   "metadata": {},
   "source": [
    "## 연습문제 2\n",
    "\n",
    "친구에게  주소를 구하고, 그 주소로 송금해 보자. 송금이 되지 않으면 왜 안되는지 이유를 알아보자.\n",
    "\n",
    "안되면 친구의 주소를 만들고 전송한다.\n",
    "\n",
    "잔고의 증가분을 출력하세요.\n",
    "\n",
    "소요된 gas비용 출력하세요."
   ]
  },
  {
   "cell_type": "code",
   "execution_count": 38,
   "metadata": {},
   "outputs": [
    {
     "name": "stdout",
     "output_type": "stream",
     "text": [
      "Overwriting ../src/ethTrans.js\n"
     ]
    }
   ],
   "source": [
    "%%writefile ../src/ethTrans.js\n",
    "var peer = \"0x77d201694d9d1c3fbd44a56dab324ef299bc3fb1\"\n",
    "var bal1 = eth.getBalance(eth.coinbase);\n",
    "var bal2 = eth.getBalance(peer);\n",
    "console.log('my account balance in ether: ', web3.fromWei(bal1, \"ether\"));\n",
    "console.log('peer balance in ether: ', web3.fromWei(bal2, \"ether\"));\n",
    "console.log('block number: ', eth.blockNumber);\n",
    "console.log('transaction count: ', eth.getTransactionCount(eth.coinbase));\n",
    "\n",
    "var h = eth.sendTransaction({from:eth.coinbase, to:peer, value:10000});\n",
    "console.log(\"...mining start\");\n",
    "miner.start();admin.sleepBlocks(1);miner.stop();\n",
    "console.log(\"mining done...\");\n",
    "var bal1new = eth.getBalance(eth.coinbase);\n",
    "var bal2new = eth.getBalance(peer);\n",
    "console.log('my account balance in ether: ', web3.fromWei(bal1new, \"ether\"));\n",
    "console.log('peer balance in ether: ', web3.fromWei(bal2new, \"ether\"));\n",
    "console.log('block number: ', eth.blockNumber);\n",
    "console.log('transaction count: ', eth.getTransactionCount(eth.coinbase));\n",
    "\n",
    "console.log(\"\\n\\nincreased balance: \", bal2new - bal2);\n",
    "console.log(\"gasUsed: \", eth.getTransactionReceipt(h).gasUsed);"
   ]
  },
  {
   "cell_type": "code",
   "execution_count": 39,
   "metadata": {},
   "outputs": [
    {
     "name": "stdout",
     "output_type": "stream",
     "text": [
      "my account balance in ether:  534.99999999999987\n",
      "peer balance in ether:  1.2e-13\n",
      "block number:  113\n",
      "transaction count:  13\n",
      "...mining start\n",
      "mining done...\n",
      "my account balance in ether:  544.99999999999986\n",
      "peer balance in ether:  1.3e-13\n",
      "block number:  115\n",
      "transaction count:  14\n",
      "\n",
      "\n",
      "increased balance:  10000\n",
      "gasUsed:  21000\n",
      "true\n"
     ]
    }
   ],
   "source": [
    "!geth --exec \"loadScript('../src/ethTrans.js')\" attach http://localhost:8445"
   ]
  },
  {
   "cell_type": "markdown",
   "metadata": {},
   "source": [
    "## 연습문제 3\n",
    "\n",
    "해시는 100미만의 양수로 정해진다고 하자.\n",
    "\n",
    "NONCE는 반복회수로만 쓰이고 무작위 수를 생성하는데 입력되지는 않는다.\n",
    "\n",
    "목표해시는 난이도에 따라 결정이 된다고 하자.\n",
    "\n",
    "마이닝을 해서, 목표 해시를 찾아보자.\n",
    "\n",
    "- 90을 목표해시로 정하고 몇 회만에 마이닝에 성공하는지 출력\n",
    "\n",
    "- 10을 목표해시로 정하고 몇 회만에 마이닝에 성공하는지 출력\n",
    "\n"
   ]
  },
  {
   "cell_type": "code",
   "execution_count": 47,
   "metadata": {},
   "outputs": [
    {
     "name": "stdout",
     "output_type": "stream",
     "text": [
      "NONCE:  1 guessHash:  55\n",
      "Solved NONCE:  1 guessHash:  55\n",
      "90을 목표 해시로 정했을 경우 1 회 만에 마이닝에 성공\n"
     ]
    }
   ],
   "source": [
    "import hashlib\n",
    "import random\n",
    "\n",
    "found = False\n",
    "NONCE = 0\n",
    "\n",
    "while found == False:\n",
    "    guessHash = random.randint(1, 99)\n",
    "    if (guessHash < 90):\n",
    "        found = True\n",
    "    NONCE += 1\n",
    "    print(\"NONCE: \", NONCE, \"guessHash: \", guessHash)\n",
    "print(\"Solved NONCE: \", NONCE, \"guessHash: \", guessHash)\n",
    "print(\"90을 목표 해시로 정했을 경우\", NONCE, \"회 만에 마이닝에 성공\")"
   ]
  },
  {
   "cell_type": "code",
   "execution_count": 48,
   "metadata": {},
   "outputs": [
    {
     "name": "stdout",
     "output_type": "stream",
     "text": [
      "NONCE:  1 guessHash:  68\n",
      "NONCE:  2 guessHash:  24\n",
      "NONCE:  3 guessHash:  35\n",
      "NONCE:  4 guessHash:  27\n",
      "NONCE:  5 guessHash:  45\n",
      "NONCE:  6 guessHash:  3\n",
      "Solved NONCE:  6 guessHash:  3\n",
      "10을 목표 해시로 정했을 경우 6 회 만에 마이닝에 성공\n"
     ]
    }
   ],
   "source": [
    "found = False\n",
    "NONCE = 0\n",
    "\n",
    "while found == False:\n",
    "    guessHash = random.randint(1, 99)\n",
    "    if (guessHash < 10):\n",
    "        found = True\n",
    "    NONCE += 1\n",
    "    print(\"NONCE: \", NONCE, \"guessHash: \", guessHash)\n",
    "print(\"Solved NONCE: \", NONCE, \"guessHash: \", guessHash)\n",
    "print(\"10을 목표 해시로 정했을 경우\", NONCE, \"회 만에 마이닝에 성공\")"
   ]
  }
 ],
 "metadata": {
  "kernelspec": {
   "display_name": "Python 3",
   "language": "python",
   "name": "python3"
  },
  "language_info": {
   "codemirror_mode": {
    "name": "ipython",
    "version": 3
   },
   "file_extension": ".py",
   "mimetype": "text/x-python",
   "name": "python",
   "nbconvert_exporter": "python",
   "pygments_lexer": "ipython3",
   "version": "3.8.5"
  }
 },
 "nbformat": 4,
 "nbformat_minor": 4
}
