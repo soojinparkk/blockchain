{
 "cells": [
  {
   "cell_type": "markdown",
   "metadata": {},
   "source": [
    "### ganache"
   ]
  },
  {
   "cell_type": "markdown",
   "metadata": {},
   "source": [
    "### 1. 개발"
   ]
  },
  {
   "cell_type": "code",
   "execution_count": 1,
   "metadata": {},
   "outputs": [
    {
     "name": "stdout",
     "output_type": "stream",
     "text": [
      "Writing ../src/FallbackTest.sol\n"
     ]
    }
   ],
   "source": [
    "%%writefile ../src/FallbackTest.sol\n",
    "// SPDX-License-Identifier: MIT\n",
    "pragma solidity >=0.6.0;\n",
    "\n",
    "contract FallbackTest {\n",
    "    event PrintLog(string);\n",
    "    \n",
    "    function callA() pure public returns(string memory) {\n",
    "        return \"doing callA\";\n",
    "    }\n",
    "    fallback() external {\n",
    "        emit PrintLog(\"fallback called\");\n",
    "    }\n",
    "}"
   ]
  },
  {
   "cell_type": "markdown",
   "metadata": {},
   "source": [
    "### 2. 컴파일 with combined-json"
   ]
  },
  {
   "cell_type": "code",
   "execution_count": 2,
   "metadata": {},
   "outputs": [],
   "source": [
    "!solc ../src/FallbackTest.sol --combined-json abi > ../src/FallbackTestABI.json"
   ]
  },
  {
   "cell_type": "code",
   "execution_count": 4,
   "metadata": {},
   "outputs": [
    {
     "name": "stdout",
     "output_type": "stream",
     "text": [
      "{\"contracts\":{\"../src/FallbackTest.sol:FallbackTest\":{\"abi\":\"[{\\\"anonymous\\\":false,\\\"inputs\\\":[{\\\"indexed\\\":false,\\\"internalType\\\":\\\"string\\\",\\\"name\\\":\\\"\\\",\\\"type\\\":\\\"string\\\"}],\\\"name\\\":\\\"PrintLog\\\",\\\"type\\\":\\\"event\\\"},{\\\"stateMutability\\\":\\\"nonpayable\\\",\\\"type\\\":\\\"fallback\\\"},{\\\"inputs\\\":[],\\\"name\\\":\\\"callA\\\",\\\"outputs\\\":[{\\\"internalType\\\":\\\"string\\\",\\\"name\\\":\\\"\\\",\\\"type\\\":\\\"string\\\"}],\\\"stateMutability\\\":\\\"pure\\\",\\\"type\\\":\\\"function\\\"}]\"}},\"version\":\"0.6.4+commit.1dca32f3.Windows.msvc\"}\n"
     ]
    }
   ],
   "source": [
    "!type ..\\src\\FallbackTestABI.json"
   ]
  },
  {
   "cell_type": "code",
   "execution_count": 5,
   "metadata": {},
   "outputs": [],
   "source": [
    "!solc ../src/FallbackTest.sol --combined-json bin > ../src/FallbackTestBIN.json"
   ]
  },
  {
   "cell_type": "code",
   "execution_count": 7,
   "metadata": {},
   "outputs": [
    {
     "name": "stdout",
     "output_type": "stream",
     "text": [
      "{\"contracts\":{\"../src/FallbackTest.sol:FallbackTest\":{\"bin\":\"608060405234801561001057600080fd5b50610190806100206000396000f3fe608060405234801561001057600080fd5b506004361061002f5760003560e01c8063e7f09e051461009a57610030565b5b7f968f0302429ff0e5bd56a45ce3ba1f4fa79f4b822857e438616435f00c3b59fd60405180806020018281038252600f8152602001807f66616c6c6261636b2063616c6c6564000000000000000000000000000000000081525060200191505060405180910390a1005b6100a261011d565b6040518080602001828103825283818151815260200191508051906020019080838360005b838110156100e25780820151818401526020810190506100c7565b50505050905090810190601f16801561010f5780820380516001836020036101000a031916815260200191505b509250505060405180910390f35b60606040518060400160405280600b81526020017f646f696e672063616c6c4100000000000000000000000000000000000000000081525090509056fea26469706673582212201359d3af22064a2bd3bcdec83f048f415b04b53698aa08d0f01b966003c00ade64736f6c63430006040033\"}},\"version\":\"0.6.4+commit.1dca32f3.Windows.msvc\"}\n"
     ]
    }
   ],
   "source": [
    "!type ..\\src\\FallbackTestBIN.json"
   ]
  },
  {
   "cell_type": "markdown",
   "metadata": {},
   "source": [
    "### 3. 배포"
   ]
  },
  {
   "cell_type": "code",
   "execution_count": 10,
   "metadata": {},
   "outputs": [
    {
     "name": "stdout",
     "output_type": "stream",
     "text": [
      "Overwriting ../src/FallbackTestDeployFromFile.js\n"
     ]
    }
   ],
   "source": [
    "%%writefile ../src/FallbackTestDeployFromFile.js\n",
    "var Web3 = require('web3');\n",
    "var _abiJson = require('../src/FallbackTestABI.json');\n",
    "var _binJson = require('../src/FallbackTestBIN.json');\n",
    "\n",
    "var web3;\n",
    "if (typeof web3 !== 'undefined') {\n",
    "    web3 = new Web3(web3.currentProvider);\n",
    "} else {\n",
    "    web3 = new Web3(new Web3.providers.HttpProvider(\"http://localhost:8345\"));\n",
    "}\n",
    "\n",
    "contractName = Object.keys(_abiJson.contracts);\n",
    "console.log(\"- contract name: \"+contractName[0]);\n",
    "var _abi = JSON.parse(_abiJson.contracts[contractName].abi);\n",
    "var _bin = _binJson.contracts[contractName].bin;\n",
    "\n",
    "async function deploy() {\n",
    "    const accounts = await web3.eth.getAccounts();\n",
    "    console.log(\"Deploying the contract from \"+accounts[0]);\n",
    "    var deployed = await new web3.eth.Contract(_abi)\n",
    "        .deploy({data:_bin})\n",
    "        .send({from:accounts[0], gas:1000000}, function(err, transactionHash) {\n",
    "            if (!err)\n",
    "                console.log(\"hash: \"+transactionHash);\n",
    "        });\n",
    "    console.log(\"The contract deployed to: \"+deployed.options.address)\n",
    "}\n",
    "deploy()"
   ]
  },
  {
   "cell_type": "code",
   "execution_count": 11,
   "metadata": {},
   "outputs": [
    {
     "name": "stdout",
     "output_type": "stream",
     "text": [
      "- contract name: ../src/FallbackTest.sol:FallbackTest\n",
      "Deploying the contract from 0x5743d8a1fa0395AC566abaFab53D73aD8bCFe1de\n",
      "hash: 0xfaaa5affd1f97a6afad2219d84e7cbe2bb6ccfc00541dc659169c0bb09352416\n",
      "The contract deployed to: 0x58D1b899a3d483a85cA4C2e02Ef78c5fC10B9D8d\n"
     ]
    }
   ],
   "source": [
    "!node ../src/FallbackTestDeployFromFile.js"
   ]
  },
  {
   "cell_type": "markdown",
   "metadata": {},
   "source": [
    "### 4. 사용"
   ]
  },
  {
   "cell_type": "code",
   "execution_count": 17,
   "metadata": {},
   "outputs": [
    {
     "name": "stdout",
     "output_type": "stream",
     "text": [
      "Overwriting ../src/FallbackTestUseFromFile.js\n"
     ]
    }
   ],
   "source": [
    "%%writefile ../src/FallbackTestUseFromFile.js\n",
    "var Web3 = require('web3');\n",
    "var _abiJson = require('../src/FallbackTestABI.json');\n",
    "\n",
    "var web3;\n",
    "if (typeof web3 !== 'undefined') {\n",
    "    web3 = new Web3(web3.currentProvider);\n",
    "} else {\n",
    "    web3 = new Web3(new Web3.providers.WebsocketProvider(\"http://localhost:8345\"));\n",
    "}\n",
    "\n",
    "contractName = Object.keys(_abiJson.contracts);\n",
    "console.log(\"- contract name: \"+contractName[0]);\n",
    "var _abi = JSON.parse(_abiJson.contracts[contractName].abi);\n",
    "\n",
    "async function doIt() {\n",
    "    const accounts = await web3.eth.getAccounts();\n",
    "    console.log(\"\\nAccount: \"+accounts[0]);\n",
    "    const balanceBefore = await web3.eth.getBalance(accounts[0]);\n",
    "    console.log(\"Balance Before: \"+balanceBefore);\n",
    "    \n",
    "    var _contract = new web3.eth.Contract(_abi, \"0x58D1b899a3d483a85cA4C2e02Ef78c5fC10B9D8d\");\n",
    "    var event = _contract.events.PrintLog(function (err, ret) {\n",
    "        if (!err)\n",
    "            console.log(\"\\n\\nEvent Fired: \"+JSON.stringify(ret.returnValues));\n",
    "    });\n",
    "    \n",
    "    _contract.methods.callA().call().then(console.log);\n",
    "    \n",
    "    // fallback called\n",
    "    web3.eth.sendTransaction({from:accounts[0], to:\"0x5FA96D98362f92cc2E3dAF1F0fB53E2E717e4368\"})\n",
    "    \n",
    "    const balanceAfter = await web3.eth.getBalance(accounts[0]);\n",
    "    console.log(\"\\nBalance After: \"+balanceAfter);\n",
    "    console.log(\"Balance diff: \"+(balanceBefore - balanceAfter));\n",
    "    \n",
    "    process.exit(1);\n",
    "}\n",
    "doIt()"
   ]
  },
  {
   "cell_type": "code",
   "execution_count": 18,
   "metadata": {
    "scrolled": true
   },
   "outputs": [
    {
     "name": "stdout",
     "output_type": "stream",
     "text": [
      "- contract name: ../src/FallbackTest.sol:FallbackTest\n",
      "\n",
      "Account: 0x5743d8a1fa0395AC566abaFab53D73aD8bCFe1de\n",
      "Balance Before: 99983143599999998740\n",
      "doing callA\n",
      "\n",
      "Balance After: 99983143599999998740\n",
      "Balance diff: 0\n"
     ]
    }
   ],
   "source": [
    "!node ../src/FallbackTestUseFromFile.js"
   ]
  }
 ],
 "metadata": {
  "kernelspec": {
   "display_name": "Python 3",
   "language": "python",
   "name": "python3"
  },
  "language_info": {
   "codemirror_mode": {
    "name": "ipython",
    "version": 3
   },
   "file_extension": ".py",
   "mimetype": "text/x-python",
   "name": "python",
   "nbconvert_exporter": "python",
   "pygments_lexer": "ipython3",
   "version": "3.8.5"
  }
 },
 "nbformat": 4,
 "nbformat_minor": 4
}
