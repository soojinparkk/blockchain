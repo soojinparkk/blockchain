{
 "cells": [
  {
   "cell_type": "markdown",
   "metadata": {},
   "source": [
    "## 1. 개발"
   ]
  },
  {
   "cell_type": "code",
   "execution_count": 1,
   "metadata": {},
   "outputs": [
    {
     "name": "stdout",
     "output_type": "stream",
     "text": [
      "Writing ../src/timer.sol\n"
     ]
    }
   ],
   "source": [
    "%%writefile ../src/timer.sol\n",
    "pragma solidity 0.6.4;\n",
    "\n",
    "contract Timer {\n",
    "    uint256 startTime;\n",
    "    \n",
    "    function start() public {\n",
    "        startTime = now;\n",
    "    }\n",
    "    \n",
    "    function timePassed() public view returns(uint256) {\n",
    "        return now - startTime;\n",
    "    }\n",
    "    \n",
    "    function getNow() public view returns(uint256) {\n",
    "        return now;\n",
    "    }\n",
    "}"
   ]
  },
  {
   "cell_type": "markdown",
   "metadata": {},
   "source": [
    "## 2. 컴파일\n",
    "**컴파일 결과를 javascript 파일로 저장**\n",
    "1. node에서 그 파일을 `require`해서 사용하거나\n",
    "2. geth에서 `loadScript()` 명령어로 실행 가능"
   ]
  },
  {
   "cell_type": "code",
   "execution_count": 15,
   "metadata": {},
   "outputs": [],
   "source": [
    "!solc --optimize --combined-json abi ../src/timer.sol > ../src/timerABI.json"
   ]
  },
  {
   "cell_type": "code",
   "execution_count": 16,
   "metadata": {},
   "outputs": [],
   "source": [
    "!solc --optimize --combined-json bin ../src/timer.sol > ../src/timerBIN.json"
   ]
  },
  {
   "cell_type": "code",
   "execution_count": 26,
   "metadata": {},
   "outputs": [
    {
     "name": "stdout",
     "output_type": "stream",
     "text": [
      "Overwriting ../src/timerImportTest.js\n"
     ]
    }
   ],
   "source": [
    "%%writefile ../src/timerImportTest.js\n",
    "var _abiJson = require('../src/timerABI.json');\n",
    "var _binJson = require('../src/timerBIN.json');\n",
    "contractName = Object.keys(_abiJson.contracts);\n",
    "console.log(\"contract name: \"+contractName[0]);   // or contractName\n",
    "\n",
    "_abi = _abiJson.contracts[contractName].abi;\n",
    "_bin = _binJson.contracts[contractName].bin;\n",
    "console.log(\"abi: \"+_abi);\n",
    "console.log(\"bin: \"+_bin);"
   ]
  },
  {
   "cell_type": "code",
   "execution_count": 27,
   "metadata": {},
   "outputs": [
    {
     "name": "stdout",
     "output_type": "stream",
     "text": [
      "contract name: ../src/timer.sol:Timer\n",
      "abi: [{\"inputs\":[],\"name\":\"getNow\",\"outputs\":[{\"internalType\":\"uint256\",\"name\":\"\",\"type\":\"uint256\"}],\"stateMutability\":\"view\",\"type\":\"function\"},{\"inputs\":[],\"name\":\"start\",\"outputs\":[],\"stateMutability\":\"nonpayable\",\"type\":\"function\"},{\"inputs\":[],\"name\":\"timePassed\",\"outputs\":[{\"internalType\":\"uint256\",\"name\":\"\",\"type\":\"uint256\"}],\"stateMutability\":\"view\",\"type\":\"function\"}]\n",
      "bin: 608060405234801561001057600080fd5b5060af8061001f6000396000f3fe6080604052348015600f57600080fd5b5060043610603c5760003560e01c8063b4454253146041578063bbe4fd50146059578063be9a655514605f575b600080fd5b60476067565b60408051918252519081900360200190f35b6047606f565b60656073565b005b600054420390565b4290565b4260005556fea26469706673582212201c29482d79d2c4ff810f50d1c89bdfe4eeb9ff22d1b67bc3b4058eaf961fe1c564736f6c63430006040033\n"
     ]
    }
   ],
   "source": [
    "!node ../src/timerImportTest.js"
   ]
  },
  {
   "cell_type": "markdown",
   "metadata": {},
   "source": [
    "## 3. 배포"
   ]
  },
  {
   "cell_type": "code",
   "execution_count": 28,
   "metadata": {},
   "outputs": [
    {
     "name": "stdout",
     "output_type": "stream",
     "text": [
      "Writing ../src/timerDeploy-ganache.js\n"
     ]
    }
   ],
   "source": [
    "%%writefile ../src/timerDeploy-ganache.js\n",
    "var Web3 = require('web3');\n",
    "var _abiJson = require('../src/timerABI.json');\n",
    "var _binJson = require('../src/timerBIN.json');\n",
    "\n",
    "if (typeof web3 !== 'undefined') {\n",
    "    web3 = new Web3(web3.currentProvider);\n",
    "} else {\n",
    "    web3 = new Web3(new Web3.providers.HttpProvider(\"http://localhost:8345\"));\n",
    "}\n",
    "\n",
    "contractName = Object.keys(_abiJson.contracts);\n",
    "console.log(\"contract name: \"+contractName[0]);\n",
    "var _abi = JSON.parse(_abiJson.contracts[contractName].abi);\n",
    "var _bin = _binJson.contracts[contractName].bin;\n",
    "console.log(\"abi: \"+_abi);\n",
    "console.log(\"bin: \"+_bin);\n",
    "\n",
    "var _contract = new web3.eth.Contract(_abi);\n",
    "\n",
    "// unlock the account with a password provided\n",
    "// web3.personal.unlockAccount(web3.eth.accounts[0], 'password');\n",
    "\n",
    "_contract\n",
    "    .deploy({ data: \"0x\"+_bin })\n",
    "    .send({\n",
    "     from: '0x6039EcA4b432697CfA4f787135C1E9641fe10A4F',\n",
    "     gas: '1000000'\n",
    "    })\n",
    "    .then(function(newContractInstance){\n",
    "        console.log(\"contract address: \"+newContractInstance.options.address)\n",
    "    });"
   ]
  },
  {
   "cell_type": "code",
   "execution_count": 29,
   "metadata": {},
   "outputs": [
    {
     "name": "stdout",
     "output_type": "stream",
     "text": [
      "contract name: ../src/timer.sol:Timer\n",
      "abi: [object Object],[object Object],[object Object]\n",
      "bin: 608060405234801561001057600080fd5b5060af8061001f6000396000f3fe6080604052348015600f57600080fd5b5060043610603c5760003560e01c8063b4454253146041578063bbe4fd50146059578063be9a655514605f575b600080fd5b60476067565b60408051918252519081900360200190f35b6047606f565b60656073565b005b600054420390565b4290565b4260005556fea26469706673582212201c29482d79d2c4ff810f50d1c89bdfe4eeb9ff22d1b67bc3b4058eaf961fe1c564736f6c63430006040033\n",
      "contract address: 0xE340153E27b2Ea837552E83E6d3C59f0411261fD\n"
     ]
    }
   ],
   "source": [
    "!node ../src/timerDeploy-ganache.js"
   ]
  },
  {
   "cell_type": "markdown",
   "metadata": {},
   "source": [
    "## 4. 사용"
   ]
  },
  {
   "cell_type": "code",
   "execution_count": 44,
   "metadata": {},
   "outputs": [
    {
     "name": "stdout",
     "output_type": "stream",
     "text": [
      "Overwriting ../src/timerUse-ganache.js\n"
     ]
    }
   ],
   "source": [
    "%%writefile ../src/timerUse-ganache.js\n",
    "var Web3 = require('web3');\n",
    "var _abiJson = require('../src/timerABI.json');\n",
    "\n",
    "var web3 = new Web3(new Web3.providers.HttpProvider(\"http://localhost:8345\"));\n",
    "\n",
    "contractName = Object.keys(_abiJson.contracts);\n",
    "// console.log(\"contract name: \"+contractName[0]);\n",
    "var _abi = JSON.parse(_abiJson.contracts[contractName].abi);\n",
    "// console.log(\"abi: \"+_abi);\n",
    "\n",
    "var timer = new web3.eth.Contract(_abi, \"0xE340153E27b2Ea837552E83E6d3C59f0411261fD\");\n",
    "timer.methods.getNow().call().then(function(value) { console.log(value); });\n",
    "timer.methods.start().send({from: \"0x6039EcA4b432697CfA4f787135C1E9641fe10A4F\", gas: 1000000});\n",
    "timer.methods.timePassed().call().then(function(value) { console.log(value); });"
   ]
  },
  {
   "cell_type": "code",
   "execution_count": 45,
   "metadata": {},
   "outputs": [
    {
     "name": "stdout",
     "output_type": "stream",
     "text": [
      "1619106286\n",
      "0\n"
     ]
    }
   ],
   "source": [
    "!node ../src/timerUse-ganache.js"
   ]
  }
 ],
 "metadata": {
  "kernelspec": {
   "display_name": "Python 3",
   "language": "python",
   "name": "python3"
  },
  "language_info": {
   "codemirror_mode": {
    "name": "ipython",
    "version": 3
   },
   "file_extension": ".py",
   "mimetype": "text/x-python",
   "name": "python",
   "nbconvert_exporter": "python",
   "pygments_lexer": "ipython3",
   "version": "3.8.5"
  }
 },
 "nbformat": 4,
 "nbformat_minor": 4
}
