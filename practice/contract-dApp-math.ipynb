{
 "cells": [
  {
   "cell_type": "markdown",
   "metadata": {},
   "source": [
    "### 1. 개발"
   ]
  },
  {
   "cell_type": "code",
   "execution_count": 1,
   "metadata": {},
   "outputs": [
    {
     "name": "stdout",
     "output_type": "stream",
     "text": [
      "Writing ../src/math.sol\n"
     ]
    }
   ],
   "source": [
    "%%writefile ../src/math.sol\n",
    "pragma solidity 0.6.4;\n",
    "\n",
    "contract Math {\n",
    "    function powerOf2(uint256 input) public pure returns(uint256) {\n",
    "        return 2**input;\n",
    "    }\n",
    "}"
   ]
  },
  {
   "cell_type": "markdown",
   "metadata": {},
   "source": [
    "### 2. 컴파일"
   ]
  },
  {
   "cell_type": "code",
   "execution_count": 2,
   "metadata": {},
   "outputs": [
    {
     "name": "stdout",
     "output_type": "stream",
     "text": [
      "\n",
      "======= ../src/math.sol:Math =======\n",
      "Gas estimation:\n",
      "construction:\n",
      "   87 + 35000 = 35087\n",
      "external:\n",
      "   powerOf2(uint256):\t1891\n",
      "Binary:\n",
      "6080604052348015600f57600080fd5b5060af8061001e6000396000f3fe6080604052348015600f57600080fd5b506004361060285760003560e01c8063bdacc0cf14602d575b600080fd5b605660048036036020811015604157600080fd5b8101908080359060200190929190505050606c565b6040518082815260200191505060405180910390f35b60008160020a905091905056fea26469706673582212206c7b82296a02fbac41624f04547b167712b71cdda3010f4ac0be9199ff91cb4164736f6c63430006040033\n",
      "Contract JSON ABI\n",
      "[{\"inputs\":[{\"internalType\":\"uint256\",\"name\":\"input\",\"type\":\"uint256\"}],\"name\":\"powerOf2\",\"outputs\":[{\"internalType\":\"uint256\",\"name\":\"\",\"type\":\"uint256\"}],\"stateMutability\":\"pure\",\"type\":\"function\"}]\n"
     ]
    }
   ],
   "source": [
    "!solc --abi --bin --gas ../src/math.sol"
   ]
  },
  {
   "cell_type": "markdown",
   "metadata": {},
   "source": [
    "### 3. 배포"
   ]
  },
  {
   "cell_type": "code",
   "execution_count": 3,
   "metadata": {},
   "outputs": [
    {
     "name": "stdout",
     "output_type": "stream",
     "text": [
      "Writing ../src/mathDeploy.js\n"
     ]
    }
   ],
   "source": [
    "%%writefile ../src/mathDeploy.js\n",
    "var Web3 = require('web3');\n",
    "var web3;\n",
    "if (typeof web3 !== 'undefined') {\n",
    "    web3 = new Web3(web3.currentProvider);\n",
    "} else {\n",
    "    web3 = new Web3(new Web3.providers.HttpProvider(\"http://localhost:8345\"));\n",
    "}\n",
    "\n",
    "var _abi = [{\"inputs\":[{\"internalType\":\"uint256\",\"name\":\"input\",\"type\":\"uint256\"}],\"name\":\"powerOf2\",\"outputs\":[{\"internalType\":\"uint256\",\"name\":\"\",\"type\":\"uint256\"}],\"stateMutability\":\"pure\",\"type\":\"function\"}];\n",
    "var _bin = \"6080604052348015600f57600080fd5b5060af8061001e6000396000f3fe6080604052348015600f57600080fd5b506004361060285760003560e01c8063bdacc0cf14602d575b600080fd5b605660048036036020811015604157600080fd5b8101908080359060200190929190505050606c565b6040518082815260200191505060405180910390f35b60008160020a905091905056fea26469706673582212206c7b82296a02fbac41624f04547b167712b71cdda3010f4ac0be9199ff91cb4164736f6c63430006040033\";\n",
    "var _contract = new web3.eth.Contract(_abi);\n",
    "\n",
    "// unlock the account with a password provided\n",
    "// web3.personal.unlockAccount(web3.eth.accounts[0], 'password');\n",
    "\n",
    "_contract\n",
    "    .deploy({ data: \"0x\"+_bin })\n",
    "    .send({\n",
    "     from: '0x7FBA12d09e75d1888779cA51dc2cF53f818f72DC',\n",
    "     gas: '1000000'\n",
    "    })\n",
    "    .then(function(newContractInstance){\n",
    "        console.log(\"contract address: \"+newContractInstance.options.address)\n",
    "    });"
   ]
  },
  {
   "cell_type": "code",
   "execution_count": 4,
   "metadata": {},
   "outputs": [
    {
     "name": "stdout",
     "output_type": "stream",
     "text": [
      "contract address: 0xB80d8AC5Cd3d1d455fa2DAdB05f925281Fa5b128\n"
     ]
    }
   ],
   "source": [
    "!node ../src/mathDeploy.js"
   ]
  },
  {
   "cell_type": "markdown",
   "metadata": {},
   "source": [
    "### 4. 사용"
   ]
  },
  {
   "cell_type": "code",
   "execution_count": 17,
   "metadata": {},
   "outputs": [
    {
     "name": "stdout",
     "output_type": "stream",
     "text": [
      "Overwriting ../src/mathUse.js\n"
     ]
    }
   ],
   "source": [
    "%%writefile ../src/mathUse.js\n",
    "var Web3 = require('web3');\n",
    "var web3 = new Web3(new Web3.providers.HttpProvider(\"http://localhost:8345\"));\n",
    "\n",
    "var _abi = [{\"inputs\":[{\"internalType\":\"uint256\",\"name\":\"input\",\"type\":\"uint256\"}],\"name\":\"powerOf2\",\"outputs\":[{\"internalType\":\"uint256\",\"name\":\"\",\"type\":\"uint256\"}],\"stateMutability\":\"pure\",\"type\":\"function\"}];\n",
    "var math = new web3.eth.Contract(_abi, \"0xB80d8AC5Cd3d1d455fa2DAdB05f925281Fa5b128\");\n",
    "math.methods.powerOf2(8).call().then(function(value) { console.log(\"2^8: \"+value); });\n",
    "math.methods.powerOf2(32).call().then(function(value) { console.log(\"2^32: \"+value); });"
   ]
  },
  {
   "cell_type": "code",
   "execution_count": 18,
   "metadata": {},
   "outputs": [
    {
     "name": "stdout",
     "output_type": "stream",
     "text": [
      "2^8: 256\n",
      "2^32: 4294967296\n"
     ]
    }
   ],
   "source": [
    "!node ../src/mathUse.js"
   ]
  },
  {
   "cell_type": "markdown",
   "metadata": {},
   "source": [
    "### dApp"
   ]
  },
  {
   "cell_type": "code",
   "execution_count": 19,
   "metadata": {},
   "outputs": [
    {
     "name": "stdout",
     "output_type": "stream",
     "text": [
      "Overwriting ../scripts/math.html\n"
     ]
    }
   ],
   "source": [
    "%%writefile ../scripts/math.html\n",
    "<!doctype>\n",
    "<html>\n",
    "<head>\n",
    "<script src=\"https://cdn.jsdelivr.net/npm/web3@1.3.5/dist/web3.min.js\"></script>\n",
    "<script type=\"text/javascript\">\n",
    "    var web3 = new Web3(new Web3.providers.HttpProvider(\"http://127.0.0.1:8345\"));\n",
    "    \n",
    "    function displayMath() {\n",
    "        var math = new web3.eth.Contract([{\"inputs\":[{\"internalType\":\"uint256\",\"name\":\"input\",\"type\":\"uint256\"}],\"name\":\"powerOf2\",\"outputs\":[{\"internalType\":\"uint256\",\"name\":\"\",\"type\":\"uint256\"}],\"stateMutability\":\"pure\",\"type\":\"function\"}],\n",
    "                                          \"0xB80d8AC5Cd3d1d455fa2DAdB05f925281Fa5b128\");\n",
    "        math.methods.powerOf2(32).call().then(function(str) {\n",
    "            document.getElementById('powerOf2').innerText = \"2^32: \"+str;\n",
    "        });\n",
    "    }\n",
    "</script>\n",
    "</head>\n",
    "\n",
    "<body>\n",
    "    <h1>MATH</h1>\n",
    "    <button type=\"button\" onClick=\"displayMath();\">powerOf2</button>\n",
    "    <div></div>\n",
    "    <div id=\"powerOf2\"></div>\n",
    "</body>\n",
    "</html>"
   ]
  },
  {
   "cell_type": "code",
   "execution_count": 22,
   "metadata": {},
   "outputs": [],
   "source": [
    "from IPython.display import Image"
   ]
  },
  {
   "cell_type": "code",
   "execution_count": 23,
   "metadata": {},
   "outputs": [
    {
     "data": {
      "image/png": "[encoded data removed]",
      "text/plain": [
       "<IPython.core.display.Image object>"
      ]
     },
     "execution_count": 23,
     "metadata": {},
     "output_type": "execute_result"
    }
   ],
   "source": [
    "Image(\"img.PNG\")"
   ]
  }
 ],
 "metadata": {
  "kernelspec": {
   "display_name": "Python 3",
   "language": "python",
   "name": "python3"
  },
  "language_info": {
   "codemirror_mode": {
    "name": "ipython",
    "version": 3
   },
   "file_extension": ".py",
   "mimetype": "text/x-python",
   "name": "python",
   "nbconvert_exporter": "python",
   "pygments_lexer": "ipython3",
   "version": "3.8.5"
  }
 },
 "nbformat": 4,
 "nbformat_minor": 4
}
