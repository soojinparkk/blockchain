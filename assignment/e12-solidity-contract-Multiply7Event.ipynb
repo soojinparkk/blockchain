{
 "cells": [
  {
   "cell_type": "markdown",
   "metadata": {},
   "source": [
    "## 연습문제 Multiply7\n",
    "\n",
    "\n",
    "앞서 Multiply7을 구현해 놓았다.\n",
    "\n",
    "이 컨트랙에 이벤트를 추가해서 수정해보자.\n",
    "\n",
    "geth 또는 ganache 가운데 어느 것이나 선택해서 실행해도 좋다.\n",
    "\n",
    "아래 주어진 미완성 코드를 구현해서 노드에서 이벤트를 발생시켜 본다.\n",
    "\n",
    "* 함수는 param4인자를 받아서 곱하기 7 연산을 한다. 8과 16의 연산을 실행하자. 그 결과는 56과 112가 출력될 것이다.\n",
    "\n",
    "* 이벤트로 넘겨주는 매개변수 param1은 누가 이 함수를 호출했는지 (address), param2는 언제 호출되었는지 (timestamp), 마지막으로 param3는 연산결과를 출력한다.\n",
    "\n",
    "\n",
    "\n",
    "* 미완성 코드\n",
    "```\n",
    "contract Multiply7Event {\n",
    "\n",
    "    event Print(param1, param2, param3);\n",
    "\n",
    "    function multiply(param4)\n",
    "\n",
    "}\n",
    "```\n"
   ]
  },
  {
   "cell_type": "markdown",
   "metadata": {},
   "source": [
    "### ganache"
   ]
  },
  {
   "cell_type": "markdown",
   "metadata": {},
   "source": [
    "### 1. 개발"
   ]
  },
  {
   "cell_type": "code",
   "execution_count": 1,
   "metadata": {},
   "outputs": [
    {
     "name": "stdout",
     "output_type": "stream",
     "text": [
      "Writing ../src/Multiply7Event.sol\n"
     ]
    }
   ],
   "source": [
    "%%writefile ../src/Multiply7Event.sol\n",
    "pragma solidity >=0.5.0;\n",
    "\n",
    "contract Multiply7Event {\n",
    "    event Print(address addr, uint256 timestamp, uint ret);\n",
    "    \n",
    "    function multiply(uint input) public {\n",
    "        uint ret = 7 * input;\n",
    "        emit Print(msg.sender, now, ret);\n",
    "    }\n",
    "}"
   ]
  },
  {
   "cell_type": "markdown",
   "metadata": {},
   "source": [
    "### 2. 컴파일"
   ]
  },
  {
   "cell_type": "code",
   "execution_count": 2,
   "metadata": {},
   "outputs": [
    {
     "name": "stdout",
     "output_type": "stream",
     "text": [
      "\n",
      "======= ../src/Multiply7Event.sol:Multiply7Event =======\n",
      "Gas estimation:\n",
      "construction:\n",
      "   105 + 53800 = 53905\n",
      "external:\n",
      "   multiply(uint256):\t1862\n",
      "Binary:\n",
      "6080604052348015600f57600080fd5b5061010d8061001f6000396000f3fe6080604052348015600f57600080fd5b506004361060285760003560e01c8063c6888fa114602d575b600080fd5b605660048036036020811015604157600080fd5b81019080803590602001909291905050506058565b005b60008160070290507f91da4985ab616136202f4e81fd2d8cac1eb12591132d609cece407f7c6fb9205334283604051808473ffffffffffffffffffffffffffffffffffffffff1673ffffffffffffffffffffffffffffffffffffffff168152602001838152602001828152602001935050505060405180910390a1505056fea2646970667358221220666c8c551390bd4d52318bfa60bbea94a92964ac82a39710424bc65e6f137eea64736f6c63430006040033\n",
      "Contract JSON ABI\n",
      "[{\"anonymous\":false,\"inputs\":[{\"indexed\":false,\"internalType\":\"address\",\"name\":\"addr\",\"type\":\"address\"},{\"indexed\":false,\"internalType\":\"uint256\",\"name\":\"timestamp\",\"type\":\"uint256\"},{\"indexed\":false,\"internalType\":\"uint256\",\"name\":\"ret\",\"type\":\"uint256\"}],\"name\":\"Print\",\"type\":\"event\"},{\"inputs\":[{\"internalType\":\"uint256\",\"name\":\"input\",\"type\":\"uint256\"}],\"name\":\"multiply\",\"outputs\":[],\"stateMutability\":\"nonpayable\",\"type\":\"function\"}]\n"
     ]
    }
   ],
   "source": [
    "!solc --abi --bin --gas ../src/Multiply7Event.sol"
   ]
  },
  {
   "cell_type": "markdown",
   "metadata": {},
   "source": [
    "### 3. 배포"
   ]
  },
  {
   "cell_type": "code",
   "execution_count": 3,
   "metadata": {},
   "outputs": [
    {
     "name": "stdout",
     "output_type": "stream",
     "text": [
      "Writing ../src/Multiply7EventDeploy.js\n"
     ]
    }
   ],
   "source": [
    "%%writefile ../src/Multiply7EventDeploy.js\n",
    "var Web3 = require('web3');\n",
    "var web3;\n",
    "if (typeof web3 !== 'undefined') {\n",
    "    web3 = new Web3(web3.currentProvider);\n",
    "} else {\n",
    "    web3 = new Web3(new Web3.providers.HttpProvider(\"http://localhost:8345\"));\n",
    "}\n",
    "\n",
    "var _abi = [{\"anonymous\":false,\"inputs\":[{\"indexed\":false,\"internalType\":\"address\",\"name\":\"addr\",\"type\":\"address\"},{\"indexed\":false,\"internalType\":\"uint256\",\"name\":\"timestamp\",\"type\":\"uint256\"},{\"indexed\":false,\"internalType\":\"uint256\",\"name\":\"ret\",\"type\":\"uint256\"}],\"name\":\"Print\",\"type\":\"event\"},{\"inputs\":[{\"internalType\":\"uint256\",\"name\":\"input\",\"type\":\"uint256\"}],\"name\":\"multiply\",\"outputs\":[],\"stateMutability\":\"nonpayable\",\"type\":\"function\"}];\n",
    "var _bin = \"0x\"+\"6080604052348015600f57600080fd5b5061010d8061001f6000396000f3fe6080604052348015600f57600080fd5b506004361060285760003560e01c8063c6888fa114602d575b600080fd5b605660048036036020811015604157600080fd5b81019080803590602001909291905050506058565b005b60008160070290507f91da4985ab616136202f4e81fd2d8cac1eb12591132d609cece407f7c6fb9205334283604051808473ffffffffffffffffffffffffffffffffffffffff1673ffffffffffffffffffffffffffffffffffffffff168152602001838152602001828152602001935050505060405180910390a1505056fea2646970667358221220666c8c551390bd4d52318bfa60bbea94a92964ac82a39710424bc65e6f137eea64736f6c63430006040033\";\n",
    "\n",
    "async function deploy() {\n",
    "    const accounts = await web3.eth.getAccounts();\n",
    "    console.log(\"Deploying the contract from \"+accounts[0]);\n",
    "    var deployed = await new web3.eth.Contract(_abi)\n",
    "        .deploy({data:_bin})\n",
    "        .send({from:accounts[0], gas:1000000}, function(err, transactionHash) {\n",
    "            if (!err)\n",
    "                console.log(\"hash: \"+transactionHash);\n",
    "        });\n",
    "    console.log(\"The contract deployed to: \"+deployed.options.address)\n",
    "}\n",
    "deploy()"
   ]
  },
  {
   "cell_type": "code",
   "execution_count": 4,
   "metadata": {},
   "outputs": [
    {
     "name": "stdout",
     "output_type": "stream",
     "text": [
      "Deploying the contract from 0xbEa640f824777De07099b5FA38E85090b8841262\n",
      "hash: 0x7e77099a8e888ea25b74af0691a853536384572c029587d822fe3a1bd7686da7\n",
      "The contract deployed to: 0x971fA2B124718373AD7f34bbf2606E4165B4D94a\n"
     ]
    }
   ],
   "source": [
    "!node ../src/Multiply7EventDeploy.js"
   ]
  },
  {
   "cell_type": "markdown",
   "metadata": {},
   "source": [
    "### 4. 사용"
   ]
  },
  {
   "cell_type": "code",
   "execution_count": 20,
   "metadata": {},
   "outputs": [
    {
     "name": "stdout",
     "output_type": "stream",
     "text": [
      "Overwriting ../src/Multiply7EventWsUse.js\n"
     ]
    }
   ],
   "source": [
    "%%writefile ../src/Multiply7EventWsUse.js\n",
    "var Web3 = require('web3');\n",
    "var web3 = new Web3(new Web3.providers.WebsocketProvider(\"http://localhost:8345\"));\n",
    "\n",
    "var _abi = [{\"anonymous\":false,\"inputs\":[{\"indexed\":false,\"internalType\":\"address\",\"name\":\"addr\",\"type\":\"address\"},{\"indexed\":false,\"internalType\":\"uint256\",\"name\":\"timestamp\",\"type\":\"uint256\"},{\"indexed\":false,\"internalType\":\"uint256\",\"name\":\"ret\",\"type\":\"uint256\"}],\"name\":\"Print\",\"type\":\"event\"},{\"inputs\":[{\"internalType\":\"uint256\",\"name\":\"input\",\"type\":\"uint256\"}],\"name\":\"multiply\",\"outputs\":[],\"stateMutability\":\"nonpayable\",\"type\":\"function\"}];\n",
    "var _contract = new web3.eth.Contract(_abi, \"0x971fA2B124718373AD7f34bbf2606E4165B4D94a\");\n",
    "\n",
    "var event = _contract.events.Print({fromBlock:0}, function (err, ret) {\n",
    "    if (!err)\n",
    "        console.log(\"Event Fired: \"+JSON.stringify(ret.returnValues));\n",
    "});\n",
    "\n",
    "async function doIt() {\n",
    "    const accounts = await web3.eth.getAccounts();\n",
    "    console.log(\"\\nAccount: \"+accounts[0]);\n",
    "    const balanceBefore = await web3.eth.getBalance(accounts[0]);\n",
    "    console.log(\"Balance Before: \"+balanceBefore);\n",
    "    \n",
    "    // multiply 8\n",
    "    const value8 = await _contract.methods.multiply(8)\n",
    "        .send({from:accounts[0], gas:1000000})\n",
    "    console.log(\"\\n\\n---> function called 8\"+JSON.stringify(value8.events.Print.returnValues));\n",
    "    \n",
    "    // multiply 16\n",
    "    const value16 = await _contract.methods.multiply(16)\n",
    "        .send({from:accounts[0], gas:1000000})\n",
    "    console.log(\"\\n\\n---> function called 16\"+JSON.stringify(value16.events.Print.returnValues));\n",
    "    \n",
    "    const balanceAfter = await web3.eth.getBalance(accounts[0]);\n",
    "    console.log(\"\\nBalance After: \"+balanceAfter);\n",
    "    console.log(\"Balance diff: \"+(balanceBefore - balanceAfter));\n",
    "}\n",
    "doIt()"
   ]
  },
  {
   "cell_type": "code",
   "execution_count": 6,
   "metadata": {},
   "outputs": [
    {
     "name": "stdout",
     "output_type": "stream",
     "text": [
      "^C\n"
     ]
    }
   ],
   "source": [
    "!node ../src/Multiply7EventWsUse.js"
   ]
  },
  {
   "cell_type": "markdown",
   "metadata": {},
   "source": [
    "jupyter notebook에서 실행 시 대기 상태가 지속되어 단말 실행 화면 첨부합니다."
   ]
  },
  {
   "cell_type": "code",
   "execution_count": 9,
   "metadata": {},
   "outputs": [],
   "source": [
    "from IPython.display import Image"
   ]
  },
  {
   "cell_type": "code",
   "execution_count": 21,
   "metadata": {
    "scrolled": true
   },
   "outputs": [
    {
     "data": {
      "image/png": "[encoded data removed]",
      "text/plain": [
       "<IPython.core.display.Image object>"
      ]
     },
     "execution_count": 21,
     "metadata": {},
     "output_type": "execute_result"
    }
   ],
   "source": [
    "Image(\"Multiply7Event.PNG\")"
   ]
  },
  {
   "cell_type": "markdown",
   "metadata": {},
   "source": [
    "출력된 function called 8의 경우 해당 returnValues의 ret에 8 * 7의 값인 56이 출력되었습니다.    \n",
    "마찬가지로, 출력된 function called 16의 경우 ret에 16 * 7의 값인 112가 출력되었습니다."
   ]
  }
 ],
 "metadata": {
  "kernelspec": {
   "display_name": "Python 3",
   "language": "python",
   "name": "python3"
  },
  "language_info": {
   "codemirror_mode": {
    "name": "ipython",
    "version": 3
   },
   "file_extension": ".py",
   "mimetype": "text/x-python",
   "name": "python",
   "nbconvert_exporter": "python",
   "pygments_lexer": "ipython3",
   "version": "3.8.5"
  }
 },
 "nbformat": 4,
 "nbformat_minor": 4
}
