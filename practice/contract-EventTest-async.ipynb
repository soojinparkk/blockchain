{
 "cells": [
  {
   "cell_type": "markdown",
   "metadata": {},
   "source": [
    "### 1. 개발"
   ]
  },
  {
   "cell_type": "code",
   "execution_count": 3,
   "metadata": {},
   "outputs": [
    {
     "name": "stdout",
     "output_type": "stream",
     "text": [
      "Overwriting ../src/EventTest.sol\n"
     ]
    }
   ],
   "source": [
    "%%writefile ../src/EventTest.sol\n",
    "pragma solidity >=0.5.0;\n",
    "\n",
    "contract EventTest {\n",
    "    event MyLog(string my);\n",
    "    function myFunction() public {\n",
    "        emit MyLog(\"Hello World!\");\n",
    "    }\n",
    "}"
   ]
  },
  {
   "cell_type": "markdown",
   "metadata": {},
   "source": [
    "### 2. 컴파일"
   ]
  },
  {
   "cell_type": "code",
   "execution_count": 4,
   "metadata": {},
   "outputs": [
    {
     "name": "stdout",
     "output_type": "stream",
     "text": [
      "\n",
      "======= ../src/EventTest.sol:EventTest =======\n",
      "Gas estimation:\n",
      "construction:\n",
      "   93 + 42600 = 42693\n",
      "external:\n",
      "   myFunction():\t1748\n",
      "Binary:\n",
      "6080604052348015600f57600080fd5b5060d58061001e6000396000f3fe6080604052348015600f57600080fd5b506004361060285760003560e01c8063c3780a3a14602d575b600080fd5b60336035565b005b7f5186edd9beca61d795526ca1f274260b3fc74be3e10e1f02e1be1552e14f137360405180806020018281038252600c8152602001807f48656c6c6f20576f726c6421000000000000000000000000000000000000000081525060200191505060405180910390a156fea2646970667358221220096991976fa573005dabf68d3f5432146d7554635fb670d4ae2cff3c4d4c84f964736f6c63430006040033\n",
      "Contract JSON ABI\n",
      "[{\"anonymous\":false,\"inputs\":[{\"indexed\":false,\"internalType\":\"string\",\"name\":\"my\",\"type\":\"string\"}],\"name\":\"MyLog\",\"type\":\"event\"},{\"inputs\":[],\"name\":\"myFunction\",\"outputs\":[],\"stateMutability\":\"nonpayable\",\"type\":\"function\"}]\n"
     ]
    }
   ],
   "source": [
    "!solc --abi --bin --gas ../src/EventTest.sol"
   ]
  },
  {
   "cell_type": "markdown",
   "metadata": {},
   "source": [
    "### 3. 배포"
   ]
  },
  {
   "cell_type": "code",
   "execution_count": 5,
   "metadata": {},
   "outputs": [
    {
     "name": "stdout",
     "output_type": "stream",
     "text": [
      "Writing ../src/EventTestDeploy.js\n"
     ]
    }
   ],
   "source": [
    "%%writefile ../src/EventTestDeploy.js\n",
    "var Web3 = require('web3');\n",
    "var web3;\n",
    "if (typeof web3 !== 'undefined') {\n",
    "    web3 = new Web3(web3.currentProvider);\n",
    "} else {\n",
    "    web3 = new Web3(new Web3.providers.HttpProvider(\"http://localhost:8345\"));\n",
    "}\n",
    "\n",
    "var _abi = [{\"anonymous\":false,\"inputs\":[{\"indexed\":false,\"internalType\":\"string\",\"name\":\"my\",\"type\":\"string\"}],\"name\":\"MyLog\",\"type\":\"event\"},{\"inputs\":[],\"name\":\"myFunction\",\"outputs\":[],\"stateMutability\":\"nonpayable\",\"type\":\"function\"}];\n",
    "var _bin = \"0x\"+\"6080604052348015600f57600080fd5b5060d58061001e6000396000f3fe6080604052348015600f57600080fd5b506004361060285760003560e01c8063c3780a3a14602d575b600080fd5b60336035565b005b7f5186edd9beca61d795526ca1f274260b3fc74be3e10e1f02e1be1552e14f137360405180806020018281038252600c8152602001807f48656c6c6f20576f726c6421000000000000000000000000000000000000000081525060200191505060405180910390a156fea2646970667358221220096991976fa573005dabf68d3f5432146d7554635fb670d4ae2cff3c4d4c84f964736f6c63430006040033\";\n",
    "\n",
    "async function deploy() {\n",
    "    const accounts = await web3.eth.getAccounts();\n",
    "    console.log(\"Deploying the contract from \"+accounts[0]);\n",
    "    var deployed = await new web3.eth.Contract(_abi)\n",
    "        .deploy({data:_bin})\n",
    "        .send({from:accounts[0], gas:1000000}, function(err, transactionHash) {\n",
    "            if (!err)\n",
    "                console.log(\"hash: \"+transactionHash);\n",
    "        });\n",
    "    console.log(\"The contract deployed to: \"+deployed.options.address)\n",
    "}\n",
    "deploy()"
   ]
  },
  {
   "cell_type": "code",
   "execution_count": 6,
   "metadata": {},
   "outputs": [
    {
     "name": "stdout",
     "output_type": "stream",
     "text": [
      "Deploying the contract from 0xbEa640f824777De07099b5FA38E85090b8841262\n",
      "hash: 0x6614ef72e764e834b3fa7dce943c8e0f4b466c22ffe19e75d2ed7ff1a79c49cd\n",
      "The contract deployed to: 0x2020D42A3e0706f1d3B5901458424e266b81114C\n"
     ]
    }
   ],
   "source": [
    "!node ../src/EventTestDeploy.js"
   ]
  },
  {
   "cell_type": "markdown",
   "metadata": {},
   "source": [
    "### 4. 사용"
   ]
  },
  {
   "cell_type": "code",
   "execution_count": 9,
   "metadata": {},
   "outputs": [
    {
     "name": "stdout",
     "output_type": "stream",
     "text": [
      "Overwriting ../src/EventTestHttpNoEventFiredUse.js\n"
     ]
    }
   ],
   "source": [
    "%%writefile ../src/EventTestHttpNoEventFiredUse.js\n",
    "var Web3 = require('web3');\n",
    "var web3 = new Web3(new Web3.providers.HttpProvider(\"http://localhost:8345\"));\n",
    "\n",
    "var _abi = [{\"anonymous\":false,\"inputs\":[{\"indexed\":false,\"internalType\":\"string\",\"name\":\"my\",\"type\":\"string\"}],\"name\":\"MyLog\",\"type\":\"event\"},{\"inputs\":[],\"name\":\"myFunction\",\"outputs\":[],\"stateMutability\":\"nonpayable\",\"type\":\"function\"}];\n",
    "var _contract = new web3.eth.Contract(_abi, \"0x2020D42A3e0706f1d3B5901458424e266b81114C\");\n",
    "\n",
    "var event = _contract.events.MyLog({fromBlock:0}, function (err, ret) {\n",
    "    if (!err)\n",
    "        console.log(\"Event Fired: \"+JSON.stringify(ret.returnValues));\n",
    "});\n",
    "\n",
    "async function doIt() {\n",
    "    const accounts = await web3.eth.getAccounts();\n",
    "    console.log(\"Account: \"+accounts[0]);\n",
    "    const balanceBefore = await web3.eth.getBalance(accounts[0]);\n",
    "    console.log(\"Balance Before: \"+balanceBefore);\n",
    "    const value = await _contract.methods.myFunction()\n",
    "        .send({from:accounts[0], gas:1000000})\n",
    "    console.log(\"myFunction called \"+JSON.stringify(value.events.MyLog.returnValues));\n",
    "    const balanceAfter = await web3.eth.getBalance(accounts[0]);\n",
    "    console.log(\"Balance After: \"+balanceAfter);\n",
    "    console.log(\"Balance diff: \"+(balanceBefore - balanceAfter));\n",
    "}\n",
    "doIt()"
   ]
  },
  {
   "cell_type": "code",
   "execution_count": 10,
   "metadata": {},
   "outputs": [
    {
     "name": "stdout",
     "output_type": "stream",
     "text": [
      "Account: 0xbEa640f824777De07099b5FA38E85090b8841262\n",
      "Balance Before: 99990454760000000000\n",
      "myFunction called {\"0\":\"Hello World!\",\"my\":\"Hello World!\"}\n",
      "Balance After: 99989998520000000000\n",
      "Balance diff: 456239999991808\n"
     ]
    }
   ],
   "source": [
    "!node ../src/EventTestHttpNoEventFiredUse.js"
   ]
  },
  {
   "cell_type": "markdown",
   "metadata": {},
   "source": [
    "### Websocket 사용"
   ]
  },
  {
   "cell_type": "code",
   "execution_count": 12,
   "metadata": {},
   "outputs": [
    {
     "name": "stdout",
     "output_type": "stream",
     "text": [
      "Writing ../src/EventTestWsUse.js\n"
     ]
    }
   ],
   "source": [
    "%%writefile ../src/EventTestWsUse.js\n",
    "var Web3 = require('web3');\n",
    "var web3 = new Web3(new Web3.providers.WebsocketProvider(\"http://localhost:8345\"));\n",
    "\n",
    "var _abi = [{\"anonymous\":false,\"inputs\":[{\"indexed\":false,\"internalType\":\"string\",\"name\":\"my\",\"type\":\"string\"}],\"name\":\"MyLog\",\"type\":\"event\"},{\"inputs\":[],\"name\":\"myFunction\",\"outputs\":[],\"stateMutability\":\"nonpayable\",\"type\":\"function\"}];\n",
    "var _contract = new web3.eth.Contract(_abi, \"0x2020D42A3e0706f1d3B5901458424e266b81114C\");\n",
    "\n",
    "var event = _contract.events.MyLog({fromBlock:0}, function (err, ret) {\n",
    "    if (!err)\n",
    "        console.log(\"Event Fired: \"+JSON.stringify(ret.returnValues));\n",
    "});\n",
    "\n",
    "async function doIt() {\n",
    "    const accounts = await web3.eth.getAccounts();\n",
    "    console.log(\"Account: \"+accounts[0]);\n",
    "    const balanceBefore = await web3.eth.getBalance(accounts[0]);\n",
    "    console.log(\"Balance Before: \"+balanceBefore);\n",
    "    const value = await _contract.methods.myFunction()\n",
    "        .send({from:accounts[0], gas:1000000})\n",
    "    console.log(\"myFunction called \"+JSON.stringify(value.events.MyLog.returnValues));\n",
    "    const balanceAfter = await web3.eth.getBalance(accounts[0]);\n",
    "    console.log(\"Balance After: \"+balanceAfter);\n",
    "    console.log(\"Balance diff: \"+(balanceBefore - balanceAfter));\n",
    "}\n",
    "doIt()"
   ]
  },
  {
   "cell_type": "code",
   "execution_count": 1,
   "metadata": {},
   "outputs": [
    {
     "name": "stdout",
     "output_type": "stream",
     "text": [
      "^C\n"
     ]
    }
   ],
   "source": [
    "!node ../src/EventTestWsUse.js"
   ]
  },
  {
   "cell_type": "markdown",
   "metadata": {},
   "source": [
    "event가 hanging 상태로 유지되어 `*`로 표시 -> kernel restart 해야 함"
   ]
  },
  {
   "cell_type": "code",
   "execution_count": 2,
   "metadata": {},
   "outputs": [],
   "source": [
    "from IPython.display import Image"
   ]
  },
  {
   "cell_type": "code",
   "execution_count": 3,
   "metadata": {},
   "outputs": [
    {
     "data": {
      "image/png": "[encoded data removed]",
      "text/plain": [
       "<IPython.core.display.Image object>"
      ]
     },
     "execution_count": 3,
     "metadata": {},
     "output_type": "execute_result"
    }
   ],
   "source": [
    "Image(\"event.PNG\")"
   ]
  }
 ],
 "metadata": {
  "kernelspec": {
   "display_name": "Python 3",
   "language": "python",
   "name": "python3"
  },
  "language_info": {
   "codemirror_mode": {
    "name": "ipython",
    "version": 3
   },
   "file_extension": ".py",
   "mimetype": "text/x-python",
   "name": "python",
   "nbconvert_exporter": "python",
   "pygments_lexer": "ipython3",
   "version": "3.8.5"
  }
 },
 "nbformat": 4,
 "nbformat_minor": 4
}
