{
 "cells": [
  {
   "cell_type": "markdown",
   "metadata": {},
   "source": [
    "## 1. 개발 (Solidity) "
   ]
  },
  {
   "cell_type": "code",
   "execution_count": 1,
   "metadata": {},
   "outputs": [
    {
     "name": "stdout",
     "output_type": "stream",
     "text": [
      "Overwriting ../src/Hello.sol\n"
     ]
    }
   ],
   "source": [
    "%%writefile ../src/Hello.sol\n",
    "pragma solidity 0.6.4;\n",
    "\n",
    "contract Hello {\n",
    "    function sayHello() pure public returns(string memory) {\n",
    "        return \"Hello, Snowman\";\n",
    "    }\n",
    "}"
   ]
  },
  {
   "cell_type": "markdown",
   "metadata": {},
   "source": [
    "## 2. 컴파일 (solc)"
   ]
  },
  {
   "cell_type": "code",
   "execution_count": 2,
   "metadata": {
    "scrolled": true
   },
   "outputs": [
    {
     "name": "stdout",
     "output_type": "stream",
     "text": [
      "\n",
      "======= ../src/Hello.sol:Hello =======\n",
      "Gas estimation:\n",
      "construction:\n",
      "   105 + 57200 = 57305\n",
      "external:\n",
      "   sayHello():\tinfinite\n",
      "Binary:\n",
      "608060405234801561001057600080fd5b5061011e806100206000396000f3fe6080604052348015600f57600080fd5b506004361060285760003560e01c8063ef5fb05b14602d575b600080fd5b603360ab565b6040518080602001828103825283818151815260200191508051906020019080838360005b8381101560715780820151818401526020810190506058565b50505050905090810190601f168015609d5780820380516001836020036101000a031916815260200191505b509250505060405180910390f35b60606040518060400160405280600e81526020017f48656c6c6f2c20536e6f776d616e00000000000000000000000000000000000081525090509056fea26469706673582212204ee4c8eb031ede116a99f8dc25dd72ed77f4d2df21c9d87e469cf3d6c0d2b38064736f6c63430006040033\n",
      "Contract JSON ABI\n",
      "[{\"inputs\":[],\"name\":\"sayHello\",\"outputs\":[{\"internalType\":\"string\",\"name\":\"\",\"type\":\"string\"}],\"stateMutability\":\"pure\",\"type\":\"function\"}]\n"
     ]
    }
   ],
   "source": [
    "!solc --abi --bin --gas ../src/Hello.sol"
   ]
  },
  {
   "cell_type": "markdown",
   "metadata": {},
   "source": [
    "### gas 값 계산"
   ]
  },
  {
   "cell_type": "code",
   "execution_count": 17,
   "metadata": {},
   "outputs": [
    {
     "name": "stdout",
     "output_type": "stream",
     "text": [
      "Overwriting ../src/HelloDeployGas.js\n"
     ]
    }
   ],
   "source": [
    "%%writefile ../src/HelloDeployGas.js\n",
    "var Web3 = require('web3');\n",
    "var web3 = new Web3(new Web3.providers.HttpProvider(\"http://127.0.0.1:8345\"));\n",
    "\n",
    "var shelloContract = new web3.eth.Contract([{\"inputs\":[],\"name\":\"sayHello\",\"outputs\":[{\"internalType\":\"string\",\"name\":\"\",\"type\":\"string\"}],\"stateMutability\":\"pure\",\"type\":\"function\"}]);\n",
    "shelloContract\n",
    "    .deploy({\n",
    "        data: '0x608060405234801561001057600080fd5b5061011e806100206000396000f3fe6080604052348015600f57600080fd5b506004361060285760003560e01c8063ef5fb05b14602d575b600080fd5b603360ab565b6040518080602001828103825283818151815260200191508051906020019080838360005b8381101560715780820151818401526020810190506058565b50505050905090810190601f168015609d5780820380516001836020036101000a031916815260200191505b509250505060405180910390f35b60606040518060400160405280600e81526020017f48656c6c6f2c20536e6f776d616e00000000000000000000000000000000000081525090509056fea2646970667358221220555a4a6162a0376f14e0edec4475054b3773e03aca419b3df6967cb04d4f869664736f6c63430006040033'\n",
    "    })\n",
    "    .estimateGas()\n",
    "    .then(function(myGas) {\n",
    "        console.log(\"Estimated gas: \" + myGas);\n",
    "        gas = myGas;\n",
    "    })\n",
    "    .catch(console.error);"
   ]
  },
  {
   "cell_type": "code",
   "execution_count": 18,
   "metadata": {},
   "outputs": [
    {
     "name": "stdout",
     "output_type": "stream",
     "text": [
      "Estimated gas: 115033\n"
     ]
    }
   ],
   "source": [
    "!node ../src/HelloDeployGas.js"
   ]
  },
  {
   "cell_type": "markdown",
   "metadata": {},
   "source": [
    "### 주소 출력 (비동기로 인해 인덱스 사용 불가)"
   ]
  },
  {
   "cell_type": "code",
   "execution_count": 21,
   "metadata": {},
   "outputs": [
    {
     "name": "stdout",
     "output_type": "stream",
     "text": [
      "Overwriting ../src/getMyAddr.js\n"
     ]
    }
   ],
   "source": [
    "%%writefile ../src/getMyAddr.js\n",
    "var Web3 = require('web3');\n",
    "var web3 = new Web3(new Web3.providers.HttpProvider(\"http://127.0.0.1:8345\"));\n",
    "\n",
    "var myAddr0;\n",
    "web3.eth.getAccounts(function(err, addr) {\n",
    "    myAddr0 = addr[0];    // 비동기로 인해 인덱스 값 불러오지 못함\n",
    "    console.log(addr);\n",
    "});\n",
    "console.log(\"my address: \" + myAddr0);"
   ]
  },
  {
   "cell_type": "code",
   "execution_count": 22,
   "metadata": {
    "scrolled": true
   },
   "outputs": [
    {
     "name": "stdout",
     "output_type": "stream",
     "text": [
      "my address: undefined\n",
      "[\n",
      "  '0xFe1bCd266FF98f7E8F00A56f047308Ca3584B709',\n",
      "  '0x7102AD0f83239524F6d995F336164f57a71457A8',\n",
      "  '0xe0a1ec170cf173400fcaD7C42ac45c21B9682D5f',\n",
      "  '0x5b875d7a60f1C123Ad2F4d2d8DAC2fCA6D8780fA',\n",
      "  '0x397e40d020E737A85D55a2D0528501c80e05e49d',\n",
      "  '0x9b15Cd23B1d8AC9c46789cF220Ff6bc4710fdfF8',\n",
      "  '0x547dC87BAC59565562924745af93BFDF302e7633',\n",
      "  '0x24fbEAd90016CD0237628B268175B1C06fE79246',\n",
      "  '0x0106B24E71A0F59d5E4F47034a97167660549673',\n",
      "  '0x4637005d2011883B1d8DFaa49cA0D716D58009db'\n",
      "]\n"
     ]
    }
   ],
   "source": [
    "!node ../src/getMyAddr.js"
   ]
  },
  {
   "cell_type": "markdown",
   "metadata": {},
   "source": [
    "## 3. 배포"
   ]
  },
  {
   "cell_type": "code",
   "execution_count": 3,
   "metadata": {},
   "outputs": [
    {
     "name": "stdout",
     "output_type": "stream",
     "text": [
      "Overwriting ../src/HelloDeploy-ganache.js\n"
     ]
    }
   ],
   "source": [
    "%%writefile ../src/HelloDeploy-ganache.js\n",
    "var Web3 = require('web3');\n",
    "var web3 = new Web3(new Web3.providers.HttpProvider(\"http://localhost:8345\"));\n",
    "\n",
    "var shelloContract = new web3.eth.Contract([{\"inputs\":[],\"name\":\"sayHello\",\"outputs\":[{\"internalType\":\"string\",\"name\":\"\",\"type\":\"string\"}],\"stateMutability\":\"pure\",\"type\":\"function\"}]);\n",
    "shelloContract\n",
    "    .deploy({\n",
    "         data: '0x608060405234801561001057600080fd5b5061011e806100206000396000f3fe6080604052348015600f57600080fd5b506004361060285760003560e01c8063ef5fb05b14602d575b600080fd5b603360ab565b6040518080602001828103825283818151815260200191508051906020019080838360005b8381101560715780820151818401526020810190506058565b50505050905090810190601f168015609d5780820380516001836020036101000a031916815260200191505b509250505060405180910390f35b60606040518060400160405280600e81526020017f48656c6c6f2c20536e6f776d616e00000000000000000000000000000000000081525090509056fea2646970667358221220724fd2d28bb4fc0791998958184c3b0cda7db39ca488fe2e15d54c2d5794f53c64736f6c63430006040033', \n",
    "    })\n",
    "    .send({\n",
    "     from: '0xFd95A6545Db3315F1e402230003A528122132AE9',\n",
    "     gas: '4700000'\n",
    "    }, function (e, transactionHash){\n",
    "        console.log(e, transactionHash);\n",
    "    })\n",
    "    .then(function(newContractInstance){\n",
    "        console.log(\"contract address: \" + newContractInstance.options.address)\n",
    "    });"
   ]
  },
  {
   "cell_type": "code",
   "execution_count": 4,
   "metadata": {},
   "outputs": [
    {
     "name": "stdout",
     "output_type": "stream",
     "text": [
      "null 0x50712d979aa47eb2cb64561dd5eef7b5614af6d19359ac0cdd3f6b0e443dadeb\n",
      "contract address: 0x290EDC850027F23Aaab6a81C60Db0B03aFeaa5A1\n"
     ]
    }
   ],
   "source": [
    "!node ../src/HelloDeploy-ganache.js"
   ]
  },
  {
   "cell_type": "markdown",
   "metadata": {},
   "source": [
    "## 4. 사용"
   ]
  },
  {
   "cell_type": "code",
   "execution_count": 1,
   "metadata": {},
   "outputs": [
    {
     "name": "stdout",
     "output_type": "stream",
     "text": [
      "Overwriting ../src/HelloUse.js\n"
     ]
    }
   ],
   "source": [
    "%%writefile ../src/HelloUse.js\n",
    "var Web3 = require('web3');\n",
    "var web3 = new Web3(new Web3.providers.HttpProvider(\"http://localhost:8345\"));\n",
    "\n",
    "var shelloContract = new web3.eth.Contract([{\"inputs\":[],\"name\":\"sayHello\",\"outputs\":[{\"internalType\":\"string\",\"name\":\"\",\"type\":\"string\"}],\"stateMutability\":\"pure\",\"type\":\"function\"}],\n",
    "                                          \"0x290EDC850027F23Aaab6a81C60Db0B03aFeaa5A1\");\n",
    "shelloContract.methods.sayHello().call().then(function(str) {console.log(str);});"
   ]
  },
  {
   "cell_type": "code",
   "execution_count": 6,
   "metadata": {},
   "outputs": [
    {
     "name": "stdout",
     "output_type": "stream",
     "text": [
      "Hello, Snowman\n"
     ]
    }
   ],
   "source": [
    "!node ../src/HelloUse.js"
   ]
  }
 ],
 "metadata": {
  "kernelspec": {
   "display_name": "Python 3",
   "language": "python",
   "name": "python3"
  },
  "language_info": {
   "codemirror_mode": {
    "name": "ipython",
    "version": 3
   },
   "file_extension": ".py",
   "mimetype": "text/x-python",
   "name": "python",
   "nbconvert_exporter": "python",
   "pygments_lexer": "ipython3",
   "version": "3.8.5"
  }
 },
 "nbformat": 4,
 "nbformat_minor": 4
}
